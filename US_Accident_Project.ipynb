{
  "nbformat": 4,
  "nbformat_minor": 0,
  "metadata": {
    "colab": {
      "name": "US Accident Project.ipynb",
      "provenance": [],
      "collapsed_sections": []
    },
    "kernelspec": {
      "name": "python3",
      "display_name": "Python 3"
    },
    "language_info": {
      "name": "python"
    },
    "widgets": {
      "application/vnd.jupyter.widget-state+json": {
        "0731d400bcb9490795d3f3b457eaa94f": {
          "model_module": "@jupyter-widgets/controls",
          "model_name": "VBoxModel",
          "state": {
            "_view_name": "VBoxView",
            "_dom_classes": [
              "widget-interact"
            ],
            "_model_name": "VBoxModel",
            "_view_module": "@jupyter-widgets/controls",
            "_model_module_version": "1.5.0",
            "_view_count": null,
            "_view_module_version": "1.5.0",
            "box_style": "",
            "layout": "IPY_MODEL_e065ea0e7620469fa922f61769be428f",
            "_model_module": "@jupyter-widgets/controls",
            "children": [
              "IPY_MODEL_e21932b465be4b3a92509372cc5586ab",
              "IPY_MODEL_5649a7bc2a69486f971843a7bdeb6feb",
              "IPY_MODEL_a0ee14e7184944abb46017744d7a0327"
            ]
          }
        },
        "e065ea0e7620469fa922f61769be428f": {
          "model_module": "@jupyter-widgets/base",
          "model_name": "LayoutModel",
          "state": {
            "_view_name": "LayoutView",
            "grid_template_rows": null,
            "right": null,
            "justify_content": null,
            "_view_module": "@jupyter-widgets/base",
            "overflow": null,
            "_model_module_version": "1.2.0",
            "_view_count": null,
            "flex_flow": null,
            "width": null,
            "min_width": null,
            "border": null,
            "align_items": null,
            "bottom": null,
            "_model_module": "@jupyter-widgets/base",
            "top": null,
            "grid_column": null,
            "overflow_y": null,
            "overflow_x": null,
            "grid_auto_flow": null,
            "grid_area": null,
            "grid_template_columns": null,
            "flex": null,
            "_model_name": "LayoutModel",
            "justify_items": null,
            "grid_row": null,
            "max_height": null,
            "align_content": null,
            "visibility": null,
            "align_self": null,
            "height": null,
            "min_height": null,
            "padding": null,
            "grid_auto_rows": null,
            "grid_gap": null,
            "max_width": null,
            "order": null,
            "_view_module_version": "1.2.0",
            "grid_template_areas": null,
            "object_position": null,
            "object_fit": null,
            "grid_auto_columns": null,
            "margin": null,
            "display": null,
            "left": null
          }
        },
        "e21932b465be4b3a92509372cc5586ab": {
          "model_module": "@jupyter-widgets/controls",
          "model_name": "TextModel",
          "state": {
            "_view_name": "TextView",
            "style": "IPY_MODEL_76d6ef8ef9c74a46a240a094f8c1f2a5",
            "_dom_classes": [],
            "description": "column",
            "_model_name": "TextModel",
            "placeholder": "​",
            "_view_module": "@jupyter-widgets/controls",
            "_model_module_version": "1.5.0",
            "value": "Severity",
            "_view_count": null,
            "disabled": false,
            "_view_module_version": "1.5.0",
            "continuous_update": true,
            "description_tooltip": null,
            "_model_module": "@jupyter-widgets/controls",
            "layout": "IPY_MODEL_d20c0a594c7b4480a7df191936ad357d"
          }
        },
        "5649a7bc2a69486f971843a7bdeb6feb": {
          "model_module": "@jupyter-widgets/controls",
          "model_name": "IntSliderModel",
          "state": {
            "_view_name": "IntSliderView",
            "style": "IPY_MODEL_bdac82fa4da243859a97d834c6d05216",
            "_dom_classes": [],
            "description": "x",
            "step": 1,
            "_model_name": "IntSliderModel",
            "orientation": "horizontal",
            "max": 6,
            "_view_module": "@jupyter-widgets/controls",
            "_model_module_version": "1.5.0",
            "value": 2,
            "_view_count": null,
            "disabled": false,
            "_view_module_version": "1.5.0",
            "min": -2,
            "continuous_update": true,
            "readout_format": "d",
            "description_tooltip": null,
            "readout": true,
            "_model_module": "@jupyter-widgets/controls",
            "layout": "IPY_MODEL_b3a326ca1bcc45208f8822ebdeb17329"
          }
        },
        "a0ee14e7184944abb46017744d7a0327": {
          "model_module": "@jupyter-widgets/output",
          "model_name": "OutputModel",
          "state": {
            "_view_name": "OutputView",
            "msg_id": "",
            "_dom_classes": [],
            "_model_name": "OutputModel",
            "outputs": [
              {
                "output_type": "display_data",
                "metadata": {
                  "tags": []
                },
                "text/plain": "3006626"
              }
            ],
            "_view_module": "@jupyter-widgets/output",
            "_model_module_version": "1.0.0",
            "_view_count": null,
            "_view_module_version": "1.0.0",
            "layout": "IPY_MODEL_37632cd6d365426cacc7f7b757bb2092",
            "_model_module": "@jupyter-widgets/output"
          }
        },
        "76d6ef8ef9c74a46a240a094f8c1f2a5": {
          "model_module": "@jupyter-widgets/controls",
          "model_name": "DescriptionStyleModel",
          "state": {
            "_view_name": "StyleView",
            "_model_name": "DescriptionStyleModel",
            "description_width": "",
            "_view_module": "@jupyter-widgets/base",
            "_model_module_version": "1.5.0",
            "_view_count": null,
            "_view_module_version": "1.2.0",
            "_model_module": "@jupyter-widgets/controls"
          }
        },
        "d20c0a594c7b4480a7df191936ad357d": {
          "model_module": "@jupyter-widgets/base",
          "model_name": "LayoutModel",
          "state": {
            "_view_name": "LayoutView",
            "grid_template_rows": null,
            "right": null,
            "justify_content": null,
            "_view_module": "@jupyter-widgets/base",
            "overflow": null,
            "_model_module_version": "1.2.0",
            "_view_count": null,
            "flex_flow": null,
            "width": null,
            "min_width": null,
            "border": null,
            "align_items": null,
            "bottom": null,
            "_model_module": "@jupyter-widgets/base",
            "top": null,
            "grid_column": null,
            "overflow_y": null,
            "overflow_x": null,
            "grid_auto_flow": null,
            "grid_area": null,
            "grid_template_columns": null,
            "flex": null,
            "_model_name": "LayoutModel",
            "justify_items": null,
            "grid_row": null,
            "max_height": null,
            "align_content": null,
            "visibility": null,
            "align_self": null,
            "height": null,
            "min_height": null,
            "padding": null,
            "grid_auto_rows": null,
            "grid_gap": null,
            "max_width": null,
            "order": null,
            "_view_module_version": "1.2.0",
            "grid_template_areas": null,
            "object_position": null,
            "object_fit": null,
            "grid_auto_columns": null,
            "margin": null,
            "display": null,
            "left": null
          }
        },
        "bdac82fa4da243859a97d834c6d05216": {
          "model_module": "@jupyter-widgets/controls",
          "model_name": "SliderStyleModel",
          "state": {
            "_view_name": "StyleView",
            "handle_color": null,
            "_model_name": "SliderStyleModel",
            "description_width": "",
            "_view_module": "@jupyter-widgets/base",
            "_model_module_version": "1.5.0",
            "_view_count": null,
            "_view_module_version": "1.2.0",
            "_model_module": "@jupyter-widgets/controls"
          }
        },
        "b3a326ca1bcc45208f8822ebdeb17329": {
          "model_module": "@jupyter-widgets/base",
          "model_name": "LayoutModel",
          "state": {
            "_view_name": "LayoutView",
            "grid_template_rows": null,
            "right": null,
            "justify_content": null,
            "_view_module": "@jupyter-widgets/base",
            "overflow": null,
            "_model_module_version": "1.2.0",
            "_view_count": null,
            "flex_flow": null,
            "width": null,
            "min_width": null,
            "border": null,
            "align_items": null,
            "bottom": null,
            "_model_module": "@jupyter-widgets/base",
            "top": null,
            "grid_column": null,
            "overflow_y": null,
            "overflow_x": null,
            "grid_auto_flow": null,
            "grid_area": null,
            "grid_template_columns": null,
            "flex": null,
            "_model_name": "LayoutModel",
            "justify_items": null,
            "grid_row": null,
            "max_height": null,
            "align_content": null,
            "visibility": null,
            "align_self": null,
            "height": null,
            "min_height": null,
            "padding": null,
            "grid_auto_rows": null,
            "grid_gap": null,
            "max_width": null,
            "order": null,
            "_view_module_version": "1.2.0",
            "grid_template_areas": null,
            "object_position": null,
            "object_fit": null,
            "grid_auto_columns": null,
            "margin": null,
            "display": null,
            "left": null
          }
        },
        "37632cd6d365426cacc7f7b757bb2092": {
          "model_module": "@jupyter-widgets/base",
          "model_name": "LayoutModel",
          "state": {
            "_view_name": "LayoutView",
            "grid_template_rows": null,
            "right": null,
            "justify_content": null,
            "_view_module": "@jupyter-widgets/base",
            "overflow": null,
            "_model_module_version": "1.2.0",
            "_view_count": null,
            "flex_flow": null,
            "width": null,
            "min_width": null,
            "border": null,
            "align_items": null,
            "bottom": null,
            "_model_module": "@jupyter-widgets/base",
            "top": null,
            "grid_column": null,
            "overflow_y": null,
            "overflow_x": null,
            "grid_auto_flow": null,
            "grid_area": null,
            "grid_template_columns": null,
            "flex": null,
            "_model_name": "LayoutModel",
            "justify_items": null,
            "grid_row": null,
            "max_height": null,
            "align_content": null,
            "visibility": null,
            "align_self": null,
            "height": null,
            "min_height": null,
            "padding": null,
            "grid_auto_rows": null,
            "grid_gap": null,
            "max_width": null,
            "order": null,
            "_view_module_version": "1.2.0",
            "grid_template_areas": null,
            "object_position": null,
            "object_fit": null,
            "grid_auto_columns": null,
            "margin": null,
            "display": null,
            "left": null
          }
        },
        "4f19e4137ad74589915d950da013637f": {
          "model_module": "@jupyter-widgets/controls",
          "model_name": "DropdownModel",
          "state": {
            "_options_labels": [
              "ALL",
              "2016",
              "2017",
              "2018",
              "2019",
              "2020"
            ],
            "_view_name": "DropdownView",
            "style": "IPY_MODEL_f38cf4da22c74b08aafca8c6469cb6c6",
            "_dom_classes": [],
            "description": "Year",
            "_model_name": "DropdownModel",
            "index": 4,
            "_view_module": "@jupyter-widgets/controls",
            "_model_module_version": "1.5.0",
            "_view_count": null,
            "disabled": false,
            "_view_module_version": "1.5.0",
            "description_tooltip": null,
            "_model_module": "@jupyter-widgets/controls",
            "layout": "IPY_MODEL_173cbbe56e9f42d8beeb7f1d00a0322d"
          }
        },
        "f38cf4da22c74b08aafca8c6469cb6c6": {
          "model_module": "@jupyter-widgets/controls",
          "model_name": "DescriptionStyleModel",
          "state": {
            "_view_name": "StyleView",
            "_model_name": "DescriptionStyleModel",
            "description_width": "",
            "_view_module": "@jupyter-widgets/base",
            "_model_module_version": "1.5.0",
            "_view_count": null,
            "_view_module_version": "1.2.0",
            "_model_module": "@jupyter-widgets/controls"
          }
        },
        "173cbbe56e9f42d8beeb7f1d00a0322d": {
          "model_module": "@jupyter-widgets/base",
          "model_name": "LayoutModel",
          "state": {
            "_view_name": "LayoutView",
            "grid_template_rows": null,
            "right": null,
            "justify_content": null,
            "_view_module": "@jupyter-widgets/base",
            "overflow": null,
            "_model_module_version": "1.2.0",
            "_view_count": null,
            "flex_flow": null,
            "width": null,
            "min_width": null,
            "border": null,
            "align_items": null,
            "bottom": null,
            "_model_module": "@jupyter-widgets/base",
            "top": null,
            "grid_column": null,
            "overflow_y": null,
            "overflow_x": null,
            "grid_auto_flow": null,
            "grid_area": null,
            "grid_template_columns": null,
            "flex": null,
            "_model_name": "LayoutModel",
            "justify_items": null,
            "grid_row": null,
            "max_height": null,
            "align_content": null,
            "visibility": null,
            "align_self": null,
            "height": null,
            "min_height": null,
            "padding": null,
            "grid_auto_rows": null,
            "grid_gap": null,
            "max_width": null,
            "order": null,
            "_view_module_version": "1.2.0",
            "grid_template_areas": null,
            "object_position": null,
            "object_fit": null,
            "grid_auto_columns": null,
            "margin": null,
            "display": null,
            "left": null
          }
        },
        "f904a248c1a04ec68a208a83c2e27c1e": {
          "model_module": "@jupyter-widgets/output",
          "model_name": "OutputModel",
          "state": {
            "_view_name": "OutputView",
            "msg_id": "",
            "_dom_classes": [],
            "_model_name": "OutputModel",
            "outputs": [
              {
                "output_type": "display_data",
                "metadata": {
                  "tags": [],
                  "needs_background": "light"
                },
                "image/png": "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\n",
                "text/plain": "<Figure size 720x576 with 1 Axes>"
              }
            ],
            "_view_module": "@jupyter-widgets/output",
            "_model_module_version": "1.0.0",
            "_view_count": null,
            "_view_module_version": "1.0.0",
            "layout": "IPY_MODEL_0385f5c0dd1041a08cfb0eb5d15c5cdc",
            "_model_module": "@jupyter-widgets/output"
          }
        },
        "0385f5c0dd1041a08cfb0eb5d15c5cdc": {
          "model_module": "@jupyter-widgets/base",
          "model_name": "LayoutModel",
          "state": {
            "_view_name": "LayoutView",
            "grid_template_rows": null,
            "right": null,
            "justify_content": null,
            "_view_module": "@jupyter-widgets/base",
            "overflow": null,
            "_model_module_version": "1.2.0",
            "_view_count": null,
            "flex_flow": null,
            "width": null,
            "min_width": null,
            "border": null,
            "align_items": null,
            "bottom": null,
            "_model_module": "@jupyter-widgets/base",
            "top": null,
            "grid_column": null,
            "overflow_y": null,
            "overflow_x": null,
            "grid_auto_flow": null,
            "grid_area": null,
            "grid_template_columns": null,
            "flex": null,
            "_model_name": "LayoutModel",
            "justify_items": null,
            "grid_row": null,
            "max_height": null,
            "align_content": null,
            "visibility": null,
            "align_self": null,
            "height": null,
            "min_height": null,
            "padding": null,
            "grid_auto_rows": null,
            "grid_gap": null,
            "max_width": null,
            "order": null,
            "_view_module_version": "1.2.0",
            "grid_template_areas": null,
            "object_position": null,
            "object_fit": null,
            "grid_auto_columns": null,
            "margin": null,
            "display": null,
            "left": null
          }
        },
        "fab843ea17b44f199bcaac6ac1de639e": {
          "model_module": "@jupyter-widgets/controls",
          "model_name": "IntSliderModel",
          "state": {
            "_view_name": "IntSliderView",
            "style": "IPY_MODEL_6bd5750871a64affb043984d65794391",
            "_dom_classes": [],
            "description": "Severity",
            "step": 1,
            "_model_name": "IntSliderModel",
            "orientation": "horizontal",
            "max": 4,
            "_view_module": "@jupyter-widgets/controls",
            "_model_module_version": "1.5.0",
            "value": 4,
            "_view_count": null,
            "disabled": false,
            "_view_module_version": "1.5.0",
            "min": 1,
            "continuous_update": true,
            "readout_format": "d",
            "description_tooltip": null,
            "readout": true,
            "_model_module": "@jupyter-widgets/controls",
            "layout": "IPY_MODEL_c81b98ab91244cacbd1e113e4501106a"
          }
        },
        "6bd5750871a64affb043984d65794391": {
          "model_module": "@jupyter-widgets/controls",
          "model_name": "SliderStyleModel",
          "state": {
            "_view_name": "StyleView",
            "handle_color": null,
            "_model_name": "SliderStyleModel",
            "description_width": "",
            "_view_module": "@jupyter-widgets/base",
            "_model_module_version": "1.5.0",
            "_view_count": null,
            "_view_module_version": "1.2.0",
            "_model_module": "@jupyter-widgets/controls"
          }
        },
        "c81b98ab91244cacbd1e113e4501106a": {
          "model_module": "@jupyter-widgets/base",
          "model_name": "LayoutModel",
          "state": {
            "_view_name": "LayoutView",
            "grid_template_rows": null,
            "right": null,
            "justify_content": null,
            "_view_module": "@jupyter-widgets/base",
            "overflow": null,
            "_model_module_version": "1.2.0",
            "_view_count": null,
            "flex_flow": null,
            "width": null,
            "min_width": null,
            "border": null,
            "align_items": null,
            "bottom": null,
            "_model_module": "@jupyter-widgets/base",
            "top": null,
            "grid_column": null,
            "overflow_y": null,
            "overflow_x": null,
            "grid_auto_flow": null,
            "grid_area": null,
            "grid_template_columns": null,
            "flex": null,
            "_model_name": "LayoutModel",
            "justify_items": null,
            "grid_row": null,
            "max_height": null,
            "align_content": null,
            "visibility": null,
            "align_self": null,
            "height": null,
            "min_height": null,
            "padding": null,
            "grid_auto_rows": null,
            "grid_gap": null,
            "max_width": null,
            "order": null,
            "_view_module_version": "1.2.0",
            "grid_template_areas": null,
            "object_position": null,
            "object_fit": null,
            "grid_auto_columns": null,
            "margin": null,
            "display": null,
            "left": null
          }
        },
        "3f05f468da0f4db6bc1ff2bc88c72716": {
          "model_module": "@jupyter-widgets/output",
          "model_name": "OutputModel",
          "state": {
            "_view_name": "OutputView",
            "msg_id": "",
            "_dom_classes": [],
            "_model_name": "OutputModel",
            "outputs": [
              {
                "output_type": "stream",
                "metadata": {
                  "tags": []
                },
                "text": "/usr/local/lib/python3.7/dist-packages/ipykernel_launcher.py:23: MatplotlibDeprecationWarning: Using a string of single character colors as a color sequence is deprecated. Use an explicit list instead.\n",
                "stream": "stderr"
              },
              {
                "output_type": "display_data",
                "metadata": {
                  "tags": [],
                  "needs_background": "light"
                },
                "image/png": "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\n",
                "text/plain": "<Figure size 720x576 with 1 Axes>"
              }
            ],
            "_view_module": "@jupyter-widgets/output",
            "_model_module_version": "1.0.0",
            "_view_count": null,
            "_view_module_version": "1.0.0",
            "layout": "IPY_MODEL_2acea95e03c649ba8d93aa655e055f41",
            "_model_module": "@jupyter-widgets/output"
          }
        },
        "2acea95e03c649ba8d93aa655e055f41": {
          "model_module": "@jupyter-widgets/base",
          "model_name": "LayoutModel",
          "state": {
            "_view_name": "LayoutView",
            "grid_template_rows": null,
            "right": null,
            "justify_content": null,
            "_view_module": "@jupyter-widgets/base",
            "overflow": null,
            "_model_module_version": "1.2.0",
            "_view_count": null,
            "flex_flow": null,
            "width": null,
            "min_width": null,
            "border": null,
            "align_items": null,
            "bottom": null,
            "_model_module": "@jupyter-widgets/base",
            "top": null,
            "grid_column": null,
            "overflow_y": null,
            "overflow_x": null,
            "grid_auto_flow": null,
            "grid_area": null,
            "grid_template_columns": null,
            "flex": null,
            "_model_name": "LayoutModel",
            "justify_items": null,
            "grid_row": null,
            "max_height": null,
            "align_content": null,
            "visibility": null,
            "align_self": null,
            "height": null,
            "min_height": null,
            "padding": null,
            "grid_auto_rows": null,
            "grid_gap": null,
            "max_width": null,
            "order": null,
            "_view_module_version": "1.2.0",
            "grid_template_areas": null,
            "object_position": null,
            "object_fit": null,
            "grid_auto_columns": null,
            "margin": null,
            "display": null,
            "left": null
          }
        },
        "a9b9f8748efe4387950845bae35b9f9c": {
          "model_module": "@jupyter-widgets/controls",
          "model_name": "IntSliderModel",
          "state": {
            "_view_name": "IntSliderView",
            "style": "IPY_MODEL_dc23f6e9888544e882c34e6d74eacac7",
            "_dom_classes": [],
            "description": "Severity",
            "step": 1,
            "_model_name": "IntSliderModel",
            "orientation": "horizontal",
            "max": 4,
            "_view_module": "@jupyter-widgets/controls",
            "_model_module_version": "1.5.0",
            "value": 2,
            "_view_count": null,
            "disabled": false,
            "_view_module_version": "1.5.0",
            "min": 1,
            "continuous_update": true,
            "readout_format": "d",
            "description_tooltip": null,
            "readout": true,
            "_model_module": "@jupyter-widgets/controls",
            "layout": "IPY_MODEL_cfa5c279920945c69a672b35c5fd691e"
          }
        },
        "dc23f6e9888544e882c34e6d74eacac7": {
          "model_module": "@jupyter-widgets/controls",
          "model_name": "SliderStyleModel",
          "state": {
            "_view_name": "StyleView",
            "handle_color": null,
            "_model_name": "SliderStyleModel",
            "description_width": "",
            "_view_module": "@jupyter-widgets/base",
            "_model_module_version": "1.5.0",
            "_view_count": null,
            "_view_module_version": "1.2.0",
            "_model_module": "@jupyter-widgets/controls"
          }
        },
        "cfa5c279920945c69a672b35c5fd691e": {
          "model_module": "@jupyter-widgets/base",
          "model_name": "LayoutModel",
          "state": {
            "_view_name": "LayoutView",
            "grid_template_rows": null,
            "right": null,
            "justify_content": null,
            "_view_module": "@jupyter-widgets/base",
            "overflow": null,
            "_model_module_version": "1.2.0",
            "_view_count": null,
            "flex_flow": null,
            "width": null,
            "min_width": null,
            "border": null,
            "align_items": null,
            "bottom": null,
            "_model_module": "@jupyter-widgets/base",
            "top": null,
            "grid_column": null,
            "overflow_y": null,
            "overflow_x": null,
            "grid_auto_flow": null,
            "grid_area": null,
            "grid_template_columns": null,
            "flex": null,
            "_model_name": "LayoutModel",
            "justify_items": null,
            "grid_row": null,
            "max_height": null,
            "align_content": null,
            "visibility": null,
            "align_self": null,
            "height": null,
            "min_height": null,
            "padding": null,
            "grid_auto_rows": null,
            "grid_gap": null,
            "max_width": null,
            "order": null,
            "_view_module_version": "1.2.0",
            "grid_template_areas": null,
            "object_position": null,
            "object_fit": null,
            "grid_auto_columns": null,
            "margin": null,
            "display": null,
            "left": null
          }
        },
        "d5cff13b8f51427a843e6c98f40c1262": {
          "model_module": "@jupyter-widgets/output",
          "model_name": "OutputModel",
          "state": {
            "_view_name": "OutputView",
            "msg_id": "",
            "_dom_classes": [],
            "_model_name": "OutputModel",
            "outputs": [
              {
                "output_type": "display_data",
                "metadata": {
                  "tags": [],
                  "needs_background": "light"
                },
                "image/png": "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\n",
                "text/plain": "<Figure size 720x576 with 1 Axes>"
              }
            ],
            "_view_module": "@jupyter-widgets/output",
            "_model_module_version": "1.0.0",
            "_view_count": null,
            "_view_module_version": "1.0.0",
            "layout": "IPY_MODEL_1d77e7e5c9f145f9b55ba7c3fb6a3d59",
            "_model_module": "@jupyter-widgets/output"
          }
        },
        "1d77e7e5c9f145f9b55ba7c3fb6a3d59": {
          "model_module": "@jupyter-widgets/base",
          "model_name": "LayoutModel",
          "state": {
            "_view_name": "LayoutView",
            "grid_template_rows": null,
            "right": null,
            "justify_content": null,
            "_view_module": "@jupyter-widgets/base",
            "overflow": null,
            "_model_module_version": "1.2.0",
            "_view_count": null,
            "flex_flow": null,
            "width": null,
            "min_width": null,
            "border": null,
            "align_items": null,
            "bottom": null,
            "_model_module": "@jupyter-widgets/base",
            "top": null,
            "grid_column": null,
            "overflow_y": null,
            "overflow_x": null,
            "grid_auto_flow": null,
            "grid_area": null,
            "grid_template_columns": null,
            "flex": null,
            "_model_name": "LayoutModel",
            "justify_items": null,
            "grid_row": null,
            "max_height": null,
            "align_content": null,
            "visibility": null,
            "align_self": null,
            "height": null,
            "min_height": null,
            "padding": null,
            "grid_auto_rows": null,
            "grid_gap": null,
            "max_width": null,
            "order": null,
            "_view_module_version": "1.2.0",
            "grid_template_areas": null,
            "object_position": null,
            "object_fit": null,
            "grid_auto_columns": null,
            "margin": null,
            "display": null,
            "left": null
          }
        },
        "7e3d8d5675ac48ac9e38d868def5fe08": {
          "model_module": "@jupyter-widgets/controls",
          "model_name": "IntSliderModel",
          "state": {
            "_view_name": "IntSliderView",
            "style": "IPY_MODEL_384f9c0c147a4ce188fc3f2e4f2ff387",
            "_dom_classes": [],
            "description": "Severity",
            "step": 1,
            "_model_name": "IntSliderModel",
            "orientation": "horizontal",
            "max": 4,
            "_view_module": "@jupyter-widgets/controls",
            "_model_module_version": "1.5.0",
            "value": 1,
            "_view_count": null,
            "disabled": false,
            "_view_module_version": "1.5.0",
            "min": 1,
            "continuous_update": true,
            "readout_format": "d",
            "description_tooltip": null,
            "readout": true,
            "_model_module": "@jupyter-widgets/controls",
            "layout": "IPY_MODEL_0c81de98b4dd4f049e6e262048cac743"
          }
        },
        "384f9c0c147a4ce188fc3f2e4f2ff387": {
          "model_module": "@jupyter-widgets/controls",
          "model_name": "SliderStyleModel",
          "state": {
            "_view_name": "StyleView",
            "handle_color": null,
            "_model_name": "SliderStyleModel",
            "description_width": "",
            "_view_module": "@jupyter-widgets/base",
            "_model_module_version": "1.5.0",
            "_view_count": null,
            "_view_module_version": "1.2.0",
            "_model_module": "@jupyter-widgets/controls"
          }
        },
        "0c81de98b4dd4f049e6e262048cac743": {
          "model_module": "@jupyter-widgets/base",
          "model_name": "LayoutModel",
          "state": {
            "_view_name": "LayoutView",
            "grid_template_rows": null,
            "right": null,
            "justify_content": null,
            "_view_module": "@jupyter-widgets/base",
            "overflow": null,
            "_model_module_version": "1.2.0",
            "_view_count": null,
            "flex_flow": null,
            "width": null,
            "min_width": null,
            "border": null,
            "align_items": null,
            "bottom": null,
            "_model_module": "@jupyter-widgets/base",
            "top": null,
            "grid_column": null,
            "overflow_y": null,
            "overflow_x": null,
            "grid_auto_flow": null,
            "grid_area": null,
            "grid_template_columns": null,
            "flex": null,
            "_model_name": "LayoutModel",
            "justify_items": null,
            "grid_row": null,
            "max_height": null,
            "align_content": null,
            "visibility": null,
            "align_self": null,
            "height": null,
            "min_height": null,
            "padding": null,
            "grid_auto_rows": null,
            "grid_gap": null,
            "max_width": null,
            "order": null,
            "_view_module_version": "1.2.0",
            "grid_template_areas": null,
            "object_position": null,
            "object_fit": null,
            "grid_auto_columns": null,
            "margin": null,
            "display": null,
            "left": null
          }
        },
        "a73f618ed5264e4da36ebeaf002cdf6c": {
          "model_module": "@jupyter-widgets/controls",
          "model_name": "DropdownModel",
          "state": {
            "_options_labels": [
              "ALL",
              "2016",
              "2017",
              "2018",
              "2019",
              "2020"
            ],
            "_view_name": "DropdownView",
            "style": "IPY_MODEL_0f0c977a84fe432f9365d72a3121b217",
            "_dom_classes": [],
            "description": "Year",
            "_model_name": "DropdownModel",
            "index": 5,
            "_view_module": "@jupyter-widgets/controls",
            "_model_module_version": "1.5.0",
            "_view_count": null,
            "disabled": false,
            "_view_module_version": "1.5.0",
            "description_tooltip": null,
            "_model_module": "@jupyter-widgets/controls",
            "layout": "IPY_MODEL_e6a8d0cd5c9748d4bf79c08c241a5ea3"
          }
        },
        "0f0c977a84fe432f9365d72a3121b217": {
          "model_module": "@jupyter-widgets/controls",
          "model_name": "DescriptionStyleModel",
          "state": {
            "_view_name": "StyleView",
            "_model_name": "DescriptionStyleModel",
            "description_width": "",
            "_view_module": "@jupyter-widgets/base",
            "_model_module_version": "1.5.0",
            "_view_count": null,
            "_view_module_version": "1.2.0",
            "_model_module": "@jupyter-widgets/controls"
          }
        },
        "e6a8d0cd5c9748d4bf79c08c241a5ea3": {
          "model_module": "@jupyter-widgets/base",
          "model_name": "LayoutModel",
          "state": {
            "_view_name": "LayoutView",
            "grid_template_rows": null,
            "right": null,
            "justify_content": null,
            "_view_module": "@jupyter-widgets/base",
            "overflow": null,
            "_model_module_version": "1.2.0",
            "_view_count": null,
            "flex_flow": null,
            "width": null,
            "min_width": null,
            "border": null,
            "align_items": null,
            "bottom": null,
            "_model_module": "@jupyter-widgets/base",
            "top": null,
            "grid_column": null,
            "overflow_y": null,
            "overflow_x": null,
            "grid_auto_flow": null,
            "grid_area": null,
            "grid_template_columns": null,
            "flex": null,
            "_model_name": "LayoutModel",
            "justify_items": null,
            "grid_row": null,
            "max_height": null,
            "align_content": null,
            "visibility": null,
            "align_self": null,
            "height": null,
            "min_height": null,
            "padding": null,
            "grid_auto_rows": null,
            "grid_gap": null,
            "max_width": null,
            "order": null,
            "_view_module_version": "1.2.0",
            "grid_template_areas": null,
            "object_position": null,
            "object_fit": null,
            "grid_auto_columns": null,
            "margin": null,
            "display": null,
            "left": null
          }
        },
        "8d7db3c5612b42e68c3df278a7c0026f": {
          "model_module": "@jupyter-widgets/output",
          "model_name": "OutputModel",
          "state": {
            "_view_name": "OutputView",
            "msg_id": "",
            "_dom_classes": [],
            "_model_name": "OutputModel",
            "outputs": [
              {
                "output_type": "stream",
                "metadata": {
                  "tags": []
                },
                "text": "/usr/local/lib/python3.7/dist-packages/ipykernel_launcher.py:28: MatplotlibDeprecationWarning: Using a string of single character colors as a color sequence is deprecated. Use an explicit list instead.\n",
                "stream": "stderr"
              },
              {
                "output_type": "display_data",
                "metadata": {
                  "tags": [],
                  "needs_background": "light"
                },
                "image/png": "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\n",
                "text/plain": "<Figure size 720x576 with 1 Axes>"
              }
            ],
            "_view_module": "@jupyter-widgets/output",
            "_model_module_version": "1.0.0",
            "_view_count": null,
            "_view_module_version": "1.0.0",
            "layout": "IPY_MODEL_8b12cf9f36b64aedaccb28e19d08f8b9",
            "_model_module": "@jupyter-widgets/output"
          }
        },
        "8b12cf9f36b64aedaccb28e19d08f8b9": {
          "model_module": "@jupyter-widgets/base",
          "model_name": "LayoutModel",
          "state": {
            "_view_name": "LayoutView",
            "grid_template_rows": null,
            "right": null,
            "justify_content": null,
            "_view_module": "@jupyter-widgets/base",
            "overflow": null,
            "_model_module_version": "1.2.0",
            "_view_count": null,
            "flex_flow": null,
            "width": null,
            "min_width": null,
            "border": null,
            "align_items": null,
            "bottom": null,
            "_model_module": "@jupyter-widgets/base",
            "top": null,
            "grid_column": null,
            "overflow_y": null,
            "overflow_x": null,
            "grid_auto_flow": null,
            "grid_area": null,
            "grid_template_columns": null,
            "flex": null,
            "_model_name": "LayoutModel",
            "justify_items": null,
            "grid_row": null,
            "max_height": null,
            "align_content": null,
            "visibility": null,
            "align_self": null,
            "height": null,
            "min_height": null,
            "padding": null,
            "grid_auto_rows": null,
            "grid_gap": null,
            "max_width": null,
            "order": null,
            "_view_module_version": "1.2.0",
            "grid_template_areas": null,
            "object_position": null,
            "object_fit": null,
            "grid_auto_columns": null,
            "margin": null,
            "display": null,
            "left": null
          }
        },
        "d611f42d894c477ea438019a5e2d6ae8": {
          "model_module": "@jupyter-widgets/controls",
          "model_name": "DropdownModel",
          "state": {
            "_options_labels": [
              "ALL",
              "AL",
              "AR",
              "AZ",
              "CA",
              "CO",
              "CT",
              "DC",
              "DE",
              "FL",
              "GA",
              "IA",
              "ID",
              "IL",
              "IN",
              "KS",
              "KY",
              "LA",
              "MA",
              "MD",
              "ME",
              "MI",
              "MN",
              "MO",
              "MS",
              "MT",
              "NC",
              "ND",
              "NE",
              "NH",
              "NJ",
              "NM",
              "NV",
              "NY",
              "OH",
              "OK",
              "OR",
              "PA",
              "RI",
              "SC",
              "SD",
              "TN",
              "TX",
              "UT",
              "VA",
              "VT",
              "WA",
              "WI",
              "WV",
              "WY"
            ],
            "_view_name": "DropdownView",
            "style": "IPY_MODEL_3c9336cd1c9649ad923a2be097a4b94c",
            "_dom_classes": [],
            "description": "State",
            "_model_name": "DropdownModel",
            "index": 2,
            "_view_module": "@jupyter-widgets/controls",
            "_model_module_version": "1.5.0",
            "_view_count": null,
            "disabled": false,
            "_view_module_version": "1.5.0",
            "description_tooltip": null,
            "_model_module": "@jupyter-widgets/controls",
            "layout": "IPY_MODEL_caef94a9433c4afe9a114f0a21242463"
          }
        },
        "3c9336cd1c9649ad923a2be097a4b94c": {
          "model_module": "@jupyter-widgets/controls",
          "model_name": "DescriptionStyleModel",
          "state": {
            "_view_name": "StyleView",
            "_model_name": "DescriptionStyleModel",
            "description_width": "",
            "_view_module": "@jupyter-widgets/base",
            "_model_module_version": "1.5.0",
            "_view_count": null,
            "_view_module_version": "1.2.0",
            "_model_module": "@jupyter-widgets/controls"
          }
        },
        "caef94a9433c4afe9a114f0a21242463": {
          "model_module": "@jupyter-widgets/base",
          "model_name": "LayoutModel",
          "state": {
            "_view_name": "LayoutView",
            "grid_template_rows": null,
            "right": null,
            "justify_content": null,
            "_view_module": "@jupyter-widgets/base",
            "overflow": null,
            "_model_module_version": "1.2.0",
            "_view_count": null,
            "flex_flow": null,
            "width": null,
            "min_width": null,
            "border": null,
            "align_items": null,
            "bottom": null,
            "_model_module": "@jupyter-widgets/base",
            "top": null,
            "grid_column": null,
            "overflow_y": null,
            "overflow_x": null,
            "grid_auto_flow": null,
            "grid_area": null,
            "grid_template_columns": null,
            "flex": null,
            "_model_name": "LayoutModel",
            "justify_items": null,
            "grid_row": null,
            "max_height": null,
            "align_content": null,
            "visibility": null,
            "align_self": null,
            "height": null,
            "min_height": null,
            "padding": null,
            "grid_auto_rows": null,
            "grid_gap": null,
            "max_width": null,
            "order": null,
            "_view_module_version": "1.2.0",
            "grid_template_areas": null,
            "object_position": null,
            "object_fit": null,
            "grid_auto_columns": null,
            "margin": null,
            "display": null,
            "left": null
          }
        },
        "be676b383380428796ed73f32d144b42": {
          "model_module": "@jupyter-widgets/output",
          "model_name": "OutputModel",
          "state": {
            "_view_name": "OutputView",
            "msg_id": "",
            "_dom_classes": [],
            "_model_name": "OutputModel",
            "outputs": [],
            "_view_module": "@jupyter-widgets/output",
            "_model_module_version": "1.0.0",
            "_view_count": null,
            "_view_module_version": "1.0.0",
            "layout": "IPY_MODEL_9585d313f3d84486b2ce6cddd6298df0",
            "_model_module": "@jupyter-widgets/output"
          }
        },
        "9585d313f3d84486b2ce6cddd6298df0": {
          "model_module": "@jupyter-widgets/base",
          "model_name": "LayoutModel",
          "state": {
            "_view_name": "LayoutView",
            "grid_template_rows": null,
            "right": null,
            "justify_content": null,
            "_view_module": "@jupyter-widgets/base",
            "overflow": null,
            "_model_module_version": "1.2.0",
            "_view_count": null,
            "flex_flow": null,
            "width": null,
            "min_width": null,
            "border": null,
            "align_items": null,
            "bottom": null,
            "_model_module": "@jupyter-widgets/base",
            "top": null,
            "grid_column": null,
            "overflow_y": null,
            "overflow_x": null,
            "grid_auto_flow": null,
            "grid_area": null,
            "grid_template_columns": null,
            "flex": null,
            "_model_name": "LayoutModel",
            "justify_items": null,
            "grid_row": null,
            "max_height": null,
            "align_content": null,
            "visibility": null,
            "align_self": null,
            "height": null,
            "min_height": null,
            "padding": null,
            "grid_auto_rows": null,
            "grid_gap": null,
            "max_width": null,
            "order": null,
            "_view_module_version": "1.2.0",
            "grid_template_areas": null,
            "object_position": null,
            "object_fit": null,
            "grid_auto_columns": null,
            "margin": null,
            "display": null,
            "left": null
          }
        },
        "14f2ce240d894996ab04e5a8ed9b4852": {
          "model_module": "@jupyter-widgets/controls",
          "model_name": "DropdownModel",
          "state": {
            "_options_labels": [
              "ALL",
              "2016",
              "2017",
              "2018",
              "2019",
              "2020"
            ],
            "_view_name": "DropdownView",
            "style": "IPY_MODEL_172f0a064b884996ba421aaec3b9d90b",
            "_dom_classes": [],
            "description": "Year",
            "_model_name": "DropdownModel",
            "index": 3,
            "_view_module": "@jupyter-widgets/controls",
            "_model_module_version": "1.5.0",
            "_view_count": null,
            "disabled": false,
            "_view_module_version": "1.5.0",
            "description_tooltip": null,
            "_model_module": "@jupyter-widgets/controls",
            "layout": "IPY_MODEL_56e1da97c37e412a8999921cab1582ec"
          }
        },
        "172f0a064b884996ba421aaec3b9d90b": {
          "model_module": "@jupyter-widgets/controls",
          "model_name": "DescriptionStyleModel",
          "state": {
            "_view_name": "StyleView",
            "_model_name": "DescriptionStyleModel",
            "description_width": "",
            "_view_module": "@jupyter-widgets/base",
            "_model_module_version": "1.5.0",
            "_view_count": null,
            "_view_module_version": "1.2.0",
            "_model_module": "@jupyter-widgets/controls"
          }
        },
        "56e1da97c37e412a8999921cab1582ec": {
          "model_module": "@jupyter-widgets/base",
          "model_name": "LayoutModel",
          "state": {
            "_view_name": "LayoutView",
            "grid_template_rows": null,
            "right": null,
            "justify_content": null,
            "_view_module": "@jupyter-widgets/base",
            "overflow": null,
            "_model_module_version": "1.2.0",
            "_view_count": null,
            "flex_flow": null,
            "width": null,
            "min_width": null,
            "border": null,
            "align_items": null,
            "bottom": null,
            "_model_module": "@jupyter-widgets/base",
            "top": null,
            "grid_column": null,
            "overflow_y": null,
            "overflow_x": null,
            "grid_auto_flow": null,
            "grid_area": null,
            "grid_template_columns": null,
            "flex": null,
            "_model_name": "LayoutModel",
            "justify_items": null,
            "grid_row": null,
            "max_height": null,
            "align_content": null,
            "visibility": null,
            "align_self": null,
            "height": null,
            "min_height": null,
            "padding": null,
            "grid_auto_rows": null,
            "grid_gap": null,
            "max_width": null,
            "order": null,
            "_view_module_version": "1.2.0",
            "grid_template_areas": null,
            "object_position": null,
            "object_fit": null,
            "grid_auto_columns": null,
            "margin": null,
            "display": null,
            "left": null
          }
        },
        "80c75d29604b4b5d8b5a85b6b3af6958": {
          "model_module": "@jupyter-widgets/output",
          "model_name": "OutputModel",
          "state": {
            "_view_name": "OutputView",
            "msg_id": "",
            "_dom_classes": [],
            "_model_name": "OutputModel",
            "outputs": [
              {
                "output_type": "display_data",
                "metadata": {
                  "tags": [],
                  "needs_background": "light"
                },
                "image/png": "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\n",
                "text/plain": "<Figure size 720x576 with 1 Axes>"
              }
            ],
            "_view_module": "@jupyter-widgets/output",
            "_model_module_version": "1.0.0",
            "_view_count": null,
            "_view_module_version": "1.0.0",
            "layout": "IPY_MODEL_f3104860eca943489962eb1e35d7c453",
            "_model_module": "@jupyter-widgets/output"
          }
        },
        "f3104860eca943489962eb1e35d7c453": {
          "model_module": "@jupyter-widgets/base",
          "model_name": "LayoutModel",
          "state": {
            "_view_name": "LayoutView",
            "grid_template_rows": null,
            "right": null,
            "justify_content": null,
            "_view_module": "@jupyter-widgets/base",
            "overflow": null,
            "_model_module_version": "1.2.0",
            "_view_count": null,
            "flex_flow": null,
            "width": null,
            "min_width": null,
            "border": null,
            "align_items": null,
            "bottom": null,
            "_model_module": "@jupyter-widgets/base",
            "top": null,
            "grid_column": null,
            "overflow_y": null,
            "overflow_x": null,
            "grid_auto_flow": null,
            "grid_area": null,
            "grid_template_columns": null,
            "flex": null,
            "_model_name": "LayoutModel",
            "justify_items": null,
            "grid_row": null,
            "max_height": null,
            "align_content": null,
            "visibility": null,
            "align_self": null,
            "height": null,
            "min_height": null,
            "padding": null,
            "grid_auto_rows": null,
            "grid_gap": null,
            "max_width": null,
            "order": null,
            "_view_module_version": "1.2.0",
            "grid_template_areas": null,
            "object_position": null,
            "object_fit": null,
            "grid_auto_columns": null,
            "margin": null,
            "display": null,
            "left": null
          }
        }
      }
    }
  },
  "cells": [
    {
      "cell_type": "markdown",
      "metadata": {
        "id": "ItHvWyonBy1W"
      },
      "source": [
        "# Data Loading and Preprocessing"
      ]
    },
    {
      "cell_type": "code",
      "metadata": {
        "id": "3Sz6HAul8npZ",
        "colab": {
          "base_uri": "https://localhost:8080/"
        },
        "outputId": "a868f1ab-1196-457a-b731-2a81df2a506b"
      },
      "source": [
        "!apt-get update -qq > /dev/null\n",
        "!apt-get install openjdk-8-jdk-headless -qq > /dev/null\n",
        "!wget -q https://downloads.apache.org/spark/spark-2.4.7/spark-2.4.7-bin-hadoop2.7.tgz\n",
        "!tar xf spark-2.4.7-bin-hadoop2.7.tgz\n",
        "!pip install -q findspark\n",
        "!pip install pyspark_dist_explore\n",
        "\n",
        "from pyspark_dist_explore import Histogram, hist, distplot, pandas_histogram\n",
        "import seaborn as sns\n",
        "import matplotlib.pyplot as plt\n",
        "import ipywidgets as widgets\n",
        "from ipywidgets import interact, interact_manual"
      ],
      "execution_count": 1,
      "outputs": [
        {
          "output_type": "stream",
          "text": [
            "Collecting pyspark_dist_explore\n",
            "  Downloading https://files.pythonhosted.org/packages/3c/33/2b6c29265413f2b56516caf02b8befbb6a79a1a3516d57bf1b0742a1be40/pyspark_dist_explore-0.1.8-py3-none-any.whl\n",
            "Requirement already satisfied: pandas in /usr/local/lib/python3.7/dist-packages (from pyspark_dist_explore) (1.1.5)\n",
            "Requirement already satisfied: matplotlib in /usr/local/lib/python3.7/dist-packages (from pyspark_dist_explore) (3.2.2)\n",
            "Requirement already satisfied: numpy in /usr/local/lib/python3.7/dist-packages (from pyspark_dist_explore) (1.19.5)\n",
            "Requirement already satisfied: scipy in /usr/local/lib/python3.7/dist-packages (from pyspark_dist_explore) (1.4.1)\n",
            "Requirement already satisfied: python-dateutil>=2.7.3 in /usr/local/lib/python3.7/dist-packages (from pandas->pyspark_dist_explore) (2.8.1)\n",
            "Requirement already satisfied: pytz>=2017.2 in /usr/local/lib/python3.7/dist-packages (from pandas->pyspark_dist_explore) (2018.9)\n",
            "Requirement already satisfied: cycler>=0.10 in /usr/local/lib/python3.7/dist-packages (from matplotlib->pyspark_dist_explore) (0.10.0)\n",
            "Requirement already satisfied: kiwisolver>=1.0.1 in /usr/local/lib/python3.7/dist-packages (from matplotlib->pyspark_dist_explore) (1.3.1)\n",
            "Requirement already satisfied: pyparsing!=2.0.4,!=2.1.2,!=2.1.6,>=2.0.1 in /usr/local/lib/python3.7/dist-packages (from matplotlib->pyspark_dist_explore) (2.4.7)\n",
            "Requirement already satisfied: six>=1.5 in /usr/local/lib/python3.7/dist-packages (from python-dateutil>=2.7.3->pandas->pyspark_dist_explore) (1.15.0)\n",
            "Installing collected packages: pyspark-dist-explore\n",
            "Successfully installed pyspark-dist-explore-0.1.8\n"
          ],
          "name": "stdout"
        }
      ]
    },
    {
      "cell_type": "markdown",
      "metadata": {
        "id": "uLfz-6yoByy6"
      },
      "source": [
        ""
      ]
    },
    {
      "cell_type": "code",
      "metadata": {
        "id": "-bIGJEhf8qGj"
      },
      "source": [
        "import os\n",
        "os.environ[\"JAVA_HOME\"] = \"/usr/lib/jvm/java-8-openjdk-amd64\"\n",
        "os.environ[\"SPARK_HOME\"] = \"/content/spark-2.4.7-bin-hadoop2.7\"\n",
        "\n",
        "import findspark\n",
        "findspark.init()\n",
        "\n",
        "from pyspark.sql import SparkSession\n",
        "import random\n",
        "\n",
        "spark = SparkSession.builder.appName(\"YourTest\").master(\"local[2]\").config('spark.ui.port', random.randrange(4000,5000)).getOrCreate()"
      ],
      "execution_count": 2,
      "outputs": []
    },
    {
      "cell_type": "code",
      "metadata": {
        "id": "PhR6zHpg0SmE"
      },
      "source": [
        "import pyspark\n",
        "import pyspark.sql.functions as F"
      ],
      "execution_count": 3,
      "outputs": []
    },
    {
      "cell_type": "code",
      "metadata": {
        "id": "Rtf7vC8y88mO"
      },
      "source": [
        "# !pip install -q kaggle\n",
        "# !mkdir -p ~/.kaggle\n",
        "# !cp kaggle.json ~/.kaggle/\n",
        "# !chmod 600 ~/.kaggle/kaggle.json\n"
      ],
      "execution_count": null,
      "outputs": []
    },
    {
      "cell_type": "code",
      "metadata": {
        "colab": {
          "base_uri": "https://localhost:8080/"
        },
        "id": "whsaUCEjBCKw",
        "outputId": "90a177f4-9913-4450-8048-164806f48ac4"
      },
      "source": [
        "from google.colab import drive\n",
        "drive.mount('/content/gdrive')\n"
      ],
      "execution_count": 4,
      "outputs": [
        {
          "output_type": "stream",
          "text": [
            "Mounted at /content/gdrive\n"
          ],
          "name": "stdout"
        }
      ]
    },
    {
      "cell_type": "code",
      "metadata": {
        "id": "-GK81eH6BSm1"
      },
      "source": [
        "import os\n",
        "os.environ['KAGGLE_CONFIG_DIR'] = \"/content/gdrive/MyDrive/kaggle\""
      ],
      "execution_count": 5,
      "outputs": []
    },
    {
      "cell_type": "code",
      "metadata": {
        "colab": {
          "base_uri": "https://localhost:8080/"
        },
        "id": "pzgyCE7zBZVd",
        "outputId": "3ffc3dc8-fe3d-4e79-e0b8-e5fb5d8b0413"
      },
      "source": [
        "%cd /content/gdrive/MyDrive/kaggle"
      ],
      "execution_count": 6,
      "outputs": [
        {
          "output_type": "stream",
          "text": [
            "/content/gdrive/MyDrive/kaggle\n"
          ],
          "name": "stdout"
        }
      ]
    },
    {
      "cell_type": "code",
      "metadata": {
        "colab": {
          "base_uri": "https://localhost:8080/"
        },
        "id": "Go5TkwuEBh9A",
        "outputId": "7aebbf9a-1033-466e-b516-fb3f4ca40166"
      },
      "source": [
        "# !kaggle datasets download -d sobhanmoosavi/us-accidents"
      ],
      "execution_count": null,
      "outputs": [
        {
          "output_type": "stream",
          "text": [
            "us-accidents.zip: Skipping, found more recently modified local copy (use --force to force download)\n"
          ],
          "name": "stdout"
        }
      ]
    },
    {
      "cell_type": "code",
      "metadata": {
        "colab": {
          "base_uri": "https://localhost:8080/"
        },
        "id": "WrSRbADSCDn8",
        "outputId": "12ca172e-da4c-4957-ac97-b428fc003d9f"
      },
      "source": [
        "ls"
      ],
      "execution_count": 7,
      "outputs": [
        {
          "output_type": "stream",
          "text": [
            "kaggle.json                 spark-2.4.7-bin-hadoop2.7.tgz  us-accidents.zip\n",
            "\u001b[0m\u001b[01;34mspark-2.4.7-bin-hadoop2.7\u001b[0m/  US_Accidents_Dec20.csv\n"
          ],
          "name": "stdout"
        }
      ]
    },
    {
      "cell_type": "code",
      "metadata": {
        "colab": {
          "base_uri": "https://localhost:8080/"
        },
        "id": "65wCLufWCKh2",
        "outputId": "3165e579-6bb6-4b11-ad2b-181ee0c05514"
      },
      "source": [
        "# !unzip \\*.zip  && rm *.zip"
      ],
      "execution_count": null,
      "outputs": [
        {
          "output_type": "stream",
          "text": [
            "Archive:  us-accidents.zip\n",
            "  inflating: US_Accidents_Dec20.csv  \n"
          ],
          "name": "stdout"
        }
      ]
    },
    {
      "cell_type": "code",
      "metadata": {
        "id": "XOIYN_EDCaAL"
      },
      "source": [
        "df = (spark\n",
        "  .read                                              \n",
        "  .option(\"inferSchema\",\"true\")                 \n",
        "  .option(\"header\",\"true\")                           \n",
        "  .csv(\"gdrive/MyDrive/kaggle/US_Accidents_Dec20.csv\"))"
      ],
      "execution_count": 8,
      "outputs": []
    },
    {
      "cell_type": "code",
      "metadata": {
        "id": "LejZrzfab1Br"
      },
      "source": [
        "df.createOrReplaceTempView(\"df\")"
      ],
      "execution_count": 10,
      "outputs": []
    },
    {
      "cell_type": "code",
      "metadata": {
        "colab": {
          "base_uri": "https://localhost:8080/"
        },
        "id": "jP91yeN-u3EI",
        "outputId": "0611c403-4bf0-4e9f-8a8e-ee488ad56f69"
      },
      "source": [
        "df.show()"
      ],
      "execution_count": 30,
      "outputs": [
        {
          "output_type": "stream",
          "text": [
            "+----+--------+-----+--------+-------------------+-------------------+---------+----------+-------+-------+------------+--------------------+------+--------------------+----+------------+----------+-----+----------+-------+----------+------------+-------------------+--------------+-------------+-----------+------------+--------------+--------------+---------------+-----------------+-----------------+-------+-----+--------+--------+--------+-------+-------+----------+-------+-----+---------------+--------------+------------+--------------+--------------+-----------------+---------------------+\n",
            "|  ID|  Source|  TMC|Severity|         Start_Time|           End_Time|Start_Lat| Start_Lng|End_Lat|End_Lng|Distance(mi)|         Description|Number|              Street|Side|        City|    County|State|   Zipcode|Country|  Timezone|Airport_Code|  Weather_Timestamp|Temperature(F)|Wind_Chill(F)|Humidity(%)|Pressure(in)|Visibility(mi)|Wind_Direction|Wind_Speed(mph)|Precipitation(in)|Weather_Condition|Amenity| Bump|Crossing|Give_Way|Junction|No_Exit|Railway|Roundabout|Station| Stop|Traffic_Calming|Traffic_Signal|Turning_Loop|Sunrise_Sunset|Civil_Twilight|Nautical_Twilight|Astronomical_Twilight|\n",
            "+----+--------+-----+--------+-------------------+-------------------+---------+----------+-------+-------+------------+--------------------+------+--------------------+----+------------+----------+-----+----------+-------+----------+------------+-------------------+--------------+-------------+-----------+------------+--------------+--------------+---------------+-----------------+-----------------+-------+-----+--------+--------+--------+-------+-------+----------+-------+-----+---------------+--------------+------------+--------------+--------------+-----------------+---------------------+\n",
            "| A-1|MapQuest|201.0|       3|2016-02-08 05:46:00|2016-02-08 11:00:00|39.865147|-84.058723|   null|   null|        0.01|Right lane blocke...|  null|              I-70 E|   R|      Dayton|Montgomery|   OH|     45424|     US|US/Eastern|        KFFO|2016-02-08 05:58:00|          36.9|         null|       91.0|       29.68|          10.0|          Calm|           null|             0.02|       Light Rain|  false|false|   false|   false|   false|  false|  false|     false|  false|false|          false|         false|       false|         Night|         Night|            Night|                Night|\n",
            "| A-2|MapQuest|201.0|       2|2016-02-08 06:07:59|2016-02-08 06:37:59|39.928059|-82.831184|   null|   null|        0.01|Accident on Brice...|2584.0|            Brice Rd|   L|Reynoldsburg|  Franklin|   OH|43068-3402|     US|US/Eastern|        KCMH|2016-02-08 05:51:00|          37.9|         null|      100.0|       29.65|          10.0|          Calm|           null|              0.0|       Light Rain|  false|false|   false|   false|   false|  false|  false|     false|  false|false|          false|         false|       false|         Night|         Night|            Night|                  Day|\n",
            "| A-3|MapQuest|201.0|       2|2016-02-08 06:49:27|2016-02-08 07:19:27|39.063148|-84.032608|   null|   null|        0.01|Accident on OH-32...|  null|      State Route 32|   R|Williamsburg|  Clermont|   OH|     45176|     US|US/Eastern|        KI69|2016-02-08 06:56:00|          36.0|         33.3|      100.0|       29.67|          10.0|            SW|            3.5|             null|         Overcast|  false|false|   false|   false|   false|  false|  false|     false|  false|false|          false|          true|       false|         Night|         Night|              Day|                  Day|\n",
            "| A-4|MapQuest|201.0|       3|2016-02-08 07:23:34|2016-02-08 07:53:34|39.747753|-84.205582|   null|   null|        0.01|Accident on I-75 ...|  null|              I-75 S|   R|      Dayton|Montgomery|   OH|     45417|     US|US/Eastern|        KDAY|2016-02-08 07:38:00|          35.1|         31.0|       96.0|       29.64|           9.0|            SW|            4.6|             null|    Mostly Cloudy|  false|false|   false|   false|   false|  false|  false|     false|  false|false|          false|         false|       false|         Night|           Day|              Day|                  Day|\n",
            "| A-5|MapQuest|201.0|       2|2016-02-08 07:39:07|2016-02-08 08:09:07|39.627781|-84.188354|   null|   null|        0.01|Accident on McEwe...|  null|Miamisburg Center...|   R|      Dayton|Montgomery|   OH|     45459|     US|US/Eastern|        KMGY|2016-02-08 07:53:00|          36.0|         33.3|       89.0|       29.65|           6.0|            SW|            3.5|             null|    Mostly Cloudy|  false|false|   false|   false|   false|  false|  false|     false|  false|false|          false|          true|       false|           Day|           Day|              Day|                  Day|\n",
            "| A-6|MapQuest|201.0|       3|2016-02-08 07:44:26|2016-02-08 08:14:26| 40.10059|-82.925194|   null|   null|        0.01|Accident on I-270...|  null|      Westerville Rd|   R| Westerville|  Franklin|   OH|     43081|     US|US/Eastern|        KCMH|2016-02-08 07:51:00|          37.9|         35.5|       97.0|       29.63|           7.0|           SSW|            3.5|             0.03|       Light Rain|  false|false|   false|   false|   false|  false|  false|     false|  false|false|          false|         false|       false|           Day|           Day|              Day|                  Day|\n",
            "| A-7|MapQuest|201.0|       2|2016-02-08 07:59:35|2016-02-08 08:29:35|39.758274|-84.230507|   null|   null|         0.0|Accident on Oakri...| 376.0|      N Woodward Ave|   R|      Dayton|Montgomery|   OH|45417-2476|     US|US/Eastern|        KDAY|2016-02-08 07:56:00|          34.0|         31.0|      100.0|       29.66|           7.0|           WSW|            3.5|             null|         Overcast|  false|false|   false|   false|   false|  false|  false|     false|  false|false|          false|         false|       false|           Day|           Day|              Day|                  Day|\n",
            "| A-8|MapQuest|201.0|       3|2016-02-08 07:59:58|2016-02-08 08:29:58|39.770382|-84.194901|   null|   null|        0.01|Accident on I-75 ...|  null|           N Main St|   R|      Dayton|Montgomery|   OH|     45405|     US|US/Eastern|        KDAY|2016-02-08 07:56:00|          34.0|         31.0|      100.0|       29.66|           7.0|           WSW|            3.5|             null|         Overcast|  false|false|   false|   false|   false|  false|  false|     false|  false|false|          false|         false|       false|           Day|           Day|              Day|                  Day|\n",
            "| A-9|MapQuest|201.0|       2|2016-02-08 08:00:40|2016-02-08 08:30:40|39.778061|-84.172005|   null|   null|         0.0|Accident on Notre...|  99.0|      Notre Dame Ave|   L|      Dayton|Montgomery|   OH|45404-1923|     US|US/Eastern|        KFFO|2016-02-08 07:58:00|          33.3|         null|       99.0|       29.67|           5.0|            SW|            1.2|             null|    Mostly Cloudy|  false|false|   false|   false|   false|  false|  false|     false|  false|false|          false|         false|       false|           Day|           Day|              Day|                  Day|\n",
            "|A-10|MapQuest|201.0|       3|2016-02-08 08:10:04|2016-02-08 08:40:04| 40.10059|-82.925194|   null|   null|        0.01|Right hand should...|  null|      Westerville Rd|   R| Westerville|  Franklin|   OH|     43081|     US|US/Eastern|        KCMH|2016-02-08 08:28:00|          37.4|         33.8|      100.0|       29.62|           3.0|           SSW|            4.6|             0.02|       Light Rain|  false|false|   false|   false|   false|  false|  false|     false|  false|false|          false|         false|       false|           Day|           Day|              Day|                  Day|\n",
            "|A-11|MapQuest|201.0|       3|2016-02-08 08:14:42|2016-02-08 08:44:42|39.952812|-83.119293|   null|   null|        0.01|Accident on I-270...|  null|         Outerbelt S|   R|    Columbus|  Franklin|   OH|     43228|     US|US/Eastern|        KTZR|2016-02-08 07:50:00|          35.6|         30.7|       93.0|       29.64|           5.0|           WNW|            5.8|             null|             Rain|  false|false|    true|   false|    true|  false|  false|     false|  false|false|          false|         false|       false|           Day|           Day|              Day|                  Day|\n",
            "|A-12|MapQuest|241.0|       3|2016-02-08 08:21:27|2016-02-08 08:51:27|39.932709| -82.83091|   null|   null|        0.01|One lane blocked ...|  null|              I-70 E|   R|Reynoldsburg|  Franklin|   OH|     43068|     US|US/Eastern|        KCMH|2016-02-08 08:28:00|          37.4|         33.8|      100.0|       29.62|           3.0|           SSW|            4.6|             0.02|       Light Rain|  false|false|   false|   false|   false|  false|  false|     false|  false|false|          false|         false|       false|           Day|           Day|              Day|                  Day|\n",
            "|A-13|MapQuest|201.0|       2|2016-02-08 08:36:34|2016-02-08 09:06:34|39.737633|-84.149933|   null|   null|         0.0|Accident on Rever...|  99.0|      Watervliet Ave|   R|      Dayton|Montgomery|   OH|45420-1863|     US|US/Eastern|        KFFO|2016-02-08 08:28:00|          33.8|         null|      100.0|       29.63|           3.0|            SW|            2.3|             null|         Overcast|  false|false|   false|   false|   false|  false|  false|     false|  false|false|          false|         false|       false|           Day|           Day|              Day|                  Day|\n",
            "|A-14|MapQuest|201.0|       2|2016-02-08 08:37:07|2016-02-08 09:07:07| 39.79076|-84.241547|   null|   null|        0.01|Accident on Salem...|3198.0|           Salem Ave|   L|      Dayton|Montgomery|   OH|45406-2708|     US|US/Eastern|        KDAY|2016-02-08 08:56:00|          36.0|         31.1|       89.0|       29.65|          10.0|            NW|            5.8|             null|    Mostly Cloudy|  false|false|   false|   false|   false|  false|  false|     false|  false|false|          false|          true|       false|           Day|           Day|              Day|                  Day|\n",
            "|A-15|MapQuest|201.0|       2|2016-02-08 08:39:43|2016-02-08 09:09:43|39.972038|-82.913521|   null|   null|        0.01|Accident on OH-16...|3280.0|          E Broad St|   L|    Columbus|  Franklin|   OH|43213-1006|     US|US/Eastern|        KCMH|2016-02-08 08:28:00|          37.4|         33.8|      100.0|       29.62|           3.0|           SSW|            4.6|             0.02|       Light Rain|  false|false|   false|   false|   false|  false|  false|     false|  false|false|          false|          true|       false|           Day|           Day|              Day|                  Day|\n",
            "|A-16|MapQuest|201.0|       2|2016-02-08 08:43:20|2016-02-08 09:13:20|39.745888| -84.17041|   null|   null|        0.01|Accident on Wayne...| 100.0|         Glencoe Ave|   R|      Dayton|Montgomery|   OH|45410-1721|     US|US/Eastern|        KFFO|2016-02-08 08:28:00|          33.8|         null|      100.0|       29.63|           3.0|            SW|            2.3|             null|         Overcast|  false|false|   false|   false|   false|  false|  false|     false|  false|false|          false|         false|       false|           Day|           Day|              Day|                  Day|\n",
            "|A-17|MapQuest|201.0|       2|2016-02-08 08:53:17|2016-02-08 09:23:17|39.748329|-84.224007|   null|   null|        0.01|Accident on James...|  null|S James H McGee Blvd|   R|      Dayton|Montgomery|   OH|     45402|     US|US/Eastern|        KFFO|2016-02-08 08:58:00|          35.6|         null|       99.0|       29.65|           7.0|           WSW|            2.3|             null|    Mostly Cloudy|  false|false|   false|   false|   false|  false|  false|     false|  false|false|          false|         false|       false|           Day|           Day|              Day|                  Day|\n",
            "|A-18|MapQuest|201.0|       2|2016-02-08 09:24:37|2016-02-08 09:54:37|39.752174|-84.239952|   null|   null|         0.0|Accident on Delph...|3001.0|         Delphos Ave|   R|      Dayton|Montgomery|   OH|45417-1727|     US|US/Eastern|        KDAY|2016-02-08 08:56:00|          36.0|         31.1|       89.0|       29.65|          10.0|            NW|            5.8|             null|    Mostly Cloudy|  false|false|   false|   false|   false|  false|  false|     false|  false|false|          false|         false|       false|           Day|           Day|              Day|                  Day|\n",
            "|A-19|MapQuest|201.0|       2|2016-02-08 09:25:17|2016-02-08 09:55:17|39.740669|-84.184135|   null|   null|        0.01|Accident on Stewa...| 440.0|          Rubicon St|   L|      Dayton|Montgomery|   OH|45409-2659|     US|US/Eastern|        KFFO|2016-02-08 09:38:00|          37.4|         32.1|       93.0|       29.63|          10.0|           WSW|            6.9|             null|         Overcast|  false|false|    true|   false|   false|  false|  false|     false|  false|false|          false|          true|       false|           Day|           Day|              Day|                  Day|\n",
            "|A-20|MapQuest|201.0|       2|2016-02-08 09:35:35|2016-02-08 10:05:35|39.790703|-84.244461|   null|   null|        0.01|Accident on Hillc...|3499.0|     W Hillcrest Ave|   R|      Dayton|Montgomery|   OH|45406-2640|     US|US/Eastern|        KDAY|2016-02-08 09:56:00|          36.0|         30.3|       89.0|       29.65|          10.0|          West|            6.9|             null|    Mostly Cloudy|  false|false|   false|   false|   false|  false|  false|     false|  false|false|          false|         false|       false|           Day|           Day|              Day|                  Day|\n",
            "+----+--------+-----+--------+-------------------+-------------------+---------+----------+-------+-------+------------+--------------------+------+--------------------+----+------------+----------+-----+----------+-------+----------+------------+-------------------+--------------+-------------+-----------+------------+--------------+--------------+---------------+-----------------+-----------------+-------+-----+--------+--------+--------+-------+-------+----------+-------+-----+---------------+--------------+------------+--------------+--------------+-----------------+---------------------+\n",
            "only showing top 20 rows\n",
            "\n"
          ],
          "name": "stdout"
        }
      ]
    },
    {
      "cell_type": "markdown",
      "metadata": {
        "id": "7CnSXly6j2SE"
      },
      "source": [
        "Only chossing the necessary column for EDA and impending new columns for Year and hour of start_time"
      ]
    },
    {
      "cell_type": "code",
      "metadata": {
        "colab": {
          "base_uri": "https://localhost:8080/"
        },
        "id": "gZJoANJQDOPt",
        "outputId": "b08bedf0-f22e-4cd2-de72-f6e2b60a2d99"
      },
      "source": [
        "df2 = spark.sql(\"Select Severity , Start_Time, End_Time, Side, City, State,  `Temperature(F)`, `Visibility(mi)`, Sunrise_Sunset, year(Start_Time) as Year, hour(Start_Time) as Start_hour from df\")\n",
        "df2.createOrReplaceTempView(\"df2\")\n",
        "df2.cache()\n",
        "\n",
        "# df2.show()"
      ],
      "execution_count": 11,
      "outputs": [
        {
          "output_type": "execute_result",
          "data": {
            "text/plain": [
              "DataFrame[Severity: int, Start_Time: timestamp, End_Time: timestamp, Side: string, City: string, State: string, Temperature(F): double, Visibility(mi): double, Sunrise_Sunset: string, Year: int, Start_hour: int]"
            ]
          },
          "metadata": {
            "tags": []
          },
          "execution_count": 11
        }
      ]
    },
    {
      "cell_type": "code",
      "metadata": {
        "colab": {
          "base_uri": "https://localhost:8080/"
        },
        "id": "iC2b_R8zjMvW",
        "outputId": "5e0185ea-9f78-42e5-d0c1-f1bd6513395f"
      },
      "source": [
        "for col in df2.columns:\n",
        "  print(col, \" with null values: \", df2.filter(df2[col].isNull()).count())"
      ],
      "execution_count": 12,
      "outputs": [
        {
          "output_type": "stream",
          "text": [
            "Severity  with null values:  0\n",
            "Start_Time  with null values:  0\n",
            "End_Time  with null values:  0\n",
            "Side  with null values:  0\n",
            "City  with null values:  137\n",
            "State  with null values:  0\n",
            "Temperature(F)  with null values:  89900\n",
            "Visibility(mi)  with null values:  98668\n",
            "Sunrise_Sunset  with null values:  141\n",
            "Year  with null values:  0\n",
            "Start_hour  with null values:  0\n"
          ],
          "name": "stdout"
        }
      ]
    },
    {
      "cell_type": "code",
      "metadata": {
        "colab": {
          "base_uri": "https://localhost:8080/"
        },
        "id": "20Lm5FbX76Cv",
        "outputId": "3d9a935f-b40d-4d4e-ec6d-487fd17ebf09"
      },
      "source": [
        "# spark.sql(\"Select distinct Side, count(Side) from df5 group by Side\").show()\n",
        "che= spark.sql(\"Select distinct Side from df5 \").toPandas()\n",
        "list(che['Side'])"
      ],
      "execution_count": null,
      "outputs": [
        {
          "output_type": "execute_result",
          "data": {
            "text/plain": [
              "['L', 'R']"
            ]
          },
          "metadata": {
            "tags": []
          },
          "execution_count": 111
        }
      ]
    },
    {
      "cell_type": "markdown",
      "metadata": {
        "id": "YFh5BVcEj-h4"
      },
      "source": [
        "We will remove records with null value for City and Sunrise_Sunset as it is very less compared to whole dataset and impend a new column for accident duration time"
      ]
    },
    {
      "cell_type": "code",
      "metadata": {
        "colab": {
          "base_uri": "https://localhost:8080/"
        },
        "id": "5LGzkypTjUIA",
        "outputId": "ea5608ff-b841-4fe4-a050-520bc326c2f3"
      },
      "source": [
        "df3 = spark.sql(\"Select*, (cast(End_Time as Decimal)- cast(Start_Time as Decimal))/60 as Accident_Duration from df2 where Sunrise_Sunset is not NULL and City is not NULL and Side <> ' '\")\n",
        "df3.createOrReplaceTempView(\"df3\")\n",
        "df3.cache()\n",
        "df3.show()"
      ],
      "execution_count": 13,
      "outputs": [
        {
          "output_type": "stream",
          "text": [
            "+--------+-------------------+-------------------+----+------------+-----+--------------+--------------+--------------+----+----------+-----------------+\n",
            "|Severity|         Start_Time|           End_Time|Side|        City|State|Temperature(F)|Visibility(mi)|Sunrise_Sunset|Year|Start_hour|Accident_Duration|\n",
            "+--------+-------------------+-------------------+----+------------+-----+--------------+--------------+--------------+----+----------+-----------------+\n",
            "|       3|2016-02-08 05:46:00|2016-02-08 11:00:00|   R|      Dayton|   OH|          36.9|          10.0|         Night|2016|         5|       314.000000|\n",
            "|       2|2016-02-08 06:07:59|2016-02-08 06:37:59|   L|Reynoldsburg|   OH|          37.9|          10.0|         Night|2016|         6|        30.000000|\n",
            "|       2|2016-02-08 06:49:27|2016-02-08 07:19:27|   R|Williamsburg|   OH|          36.0|          10.0|         Night|2016|         6|        30.000000|\n",
            "|       3|2016-02-08 07:23:34|2016-02-08 07:53:34|   R|      Dayton|   OH|          35.1|           9.0|         Night|2016|         7|        30.000000|\n",
            "|       2|2016-02-08 07:39:07|2016-02-08 08:09:07|   R|      Dayton|   OH|          36.0|           6.0|           Day|2016|         7|        30.000000|\n",
            "|       3|2016-02-08 07:44:26|2016-02-08 08:14:26|   R| Westerville|   OH|          37.9|           7.0|           Day|2016|         7|        30.000000|\n",
            "|       2|2016-02-08 07:59:35|2016-02-08 08:29:35|   R|      Dayton|   OH|          34.0|           7.0|           Day|2016|         7|        30.000000|\n",
            "|       3|2016-02-08 07:59:58|2016-02-08 08:29:58|   R|      Dayton|   OH|          34.0|           7.0|           Day|2016|         7|        30.000000|\n",
            "|       2|2016-02-08 08:00:40|2016-02-08 08:30:40|   L|      Dayton|   OH|          33.3|           5.0|           Day|2016|         8|        30.000000|\n",
            "|       3|2016-02-08 08:10:04|2016-02-08 08:40:04|   R| Westerville|   OH|          37.4|           3.0|           Day|2016|         8|        30.000000|\n",
            "|       3|2016-02-08 08:14:42|2016-02-08 08:44:42|   R|    Columbus|   OH|          35.6|           5.0|           Day|2016|         8|        30.000000|\n",
            "|       3|2016-02-08 08:21:27|2016-02-08 08:51:27|   R|Reynoldsburg|   OH|          37.4|           3.0|           Day|2016|         8|        30.000000|\n",
            "|       2|2016-02-08 08:36:34|2016-02-08 09:06:34|   R|      Dayton|   OH|          33.8|           3.0|           Day|2016|         8|        30.000000|\n",
            "|       2|2016-02-08 08:37:07|2016-02-08 09:07:07|   L|      Dayton|   OH|          36.0|          10.0|           Day|2016|         8|        30.000000|\n",
            "|       2|2016-02-08 08:39:43|2016-02-08 09:09:43|   L|    Columbus|   OH|          37.4|           3.0|           Day|2016|         8|        30.000000|\n",
            "|       2|2016-02-08 08:43:20|2016-02-08 09:13:20|   R|      Dayton|   OH|          33.8|           3.0|           Day|2016|         8|        30.000000|\n",
            "|       2|2016-02-08 08:53:17|2016-02-08 09:23:17|   R|      Dayton|   OH|          35.6|           7.0|           Day|2016|         8|        30.000000|\n",
            "|       2|2016-02-08 09:24:37|2016-02-08 09:54:37|   R|      Dayton|   OH|          36.0|          10.0|           Day|2016|         9|        30.000000|\n",
            "|       2|2016-02-08 09:25:17|2016-02-08 09:55:17|   L|      Dayton|   OH|          37.4|          10.0|           Day|2016|         9|        30.000000|\n",
            "|       2|2016-02-08 09:35:35|2016-02-08 10:05:35|   R|      Dayton|   OH|          36.0|          10.0|           Day|2016|         9|        30.000000|\n",
            "+--------+-------------------+-------------------+----+------------+-----+--------------+--------------+--------------+----+----------+-----------------+\n",
            "only showing top 20 rows\n",
            "\n"
          ],
          "name": "stdout"
        }
      ]
    },
    {
      "cell_type": "code",
      "metadata": {
        "colab": {
          "base_uri": "https://localhost:8080/"
        },
        "id": "x3uJeYltfUZW",
        "outputId": "ffb24124-1e9b-4894-b44e-fe193c5a287c"
      },
      "source": [
        "df3.describe().show()"
      ],
      "execution_count": null,
      "outputs": [
        {
          "output_type": "stream",
          "text": [
            "+-------+------------------+-------+----------+-------+------------------+------------------+--------------+------------------+-----------------+------------------+\n",
            "|summary|          Severity|   Side|      City|  State|    Temperature(F)|    Visibility(mi)|Sunrise_Sunset|              Year|       Start_hour| Accident_Duration|\n",
            "+-------+------------------+-------+----------+-------+------------------+------------------+--------------+------------------+-----------------+------------------+\n",
            "|  count|           4232400|4232400|   4232400|4232400|           4142505|           4133739|       4232400|           4232400|          4232400|           4232400|\n",
            "|   mean| 2.305033078158964|   null|      null|   null|61.478028487594024| 9.112001938196904|          null|2018.4563167469994|12.13184623381533|    134.5863288541|\n",
            "| stddev|0.5332175183377748|   null|      null|   null|18.525892754251302|2.8175859244739745|          null|1.3280272621386613|5.476415836485148|3524.8658346900197|\n",
            "|    min|                 1|       |Aaronsburg|     AL|             -89.0|               0.0|           Day|              2016|                0|          1.216667|\n",
            "|    max|                 4|      R|   Zwingle|     WY|             203.0|             140.0|         Night|              2020|               23|    1528013.366667|\n",
            "+-------+------------------+-------+----------+-------+------------------+------------------+--------------+------------------+-----------------+------------------+\n",
            "\n"
          ],
          "name": "stdout"
        }
      ]
    },
    {
      "cell_type": "code",
      "metadata": {
        "colab": {
          "base_uri": "https://localhost:8080/",
          "height": 484
        },
        "id": "jVvucFd-qTi6",
        "outputId": "0bb2197b-730a-497b-ece7-889e575d8009"
      },
      "source": [
        "# To show the outliers in Temp\n",
        "a = spark.sql(\"Select `Temperature(F)` from df3\").toPandas()\n",
        "plt.figure(figsize=(10,8))\n",
        "sns.set_theme(style=\"whitegrid\")\n",
        "sns.boxplot(y=a[\"Temperature(F)\"],width=0.2)"
      ],
      "execution_count": null,
      "outputs": [
        {
          "output_type": "execute_result",
          "data": {
            "text/plain": [
              "<matplotlib.axes._subplots.AxesSubplot at 0x7f63a5524090>"
            ]
          },
          "metadata": {
            "tags": []
          },
          "execution_count": 24
        },
        {
          "output_type": "display_data",
          "data": {
            "image/png": "[encoded data removed]",
            "text/plain": [
              "<Figure size 720x576 with 1 Axes>"
            ]
          },
          "metadata": {
            "tags": []
          }
        }
      ]
    },
    {
      "cell_type": "code",
      "metadata": {
        "colab": {
          "base_uri": "https://localhost:8080/"
        },
        "id": "bq6k9t_F6mSr",
        "outputId": "70851126-d3ef-4230-dd2e-99f3ea626989"
      },
      "source": [
        "# checking average to replace NULL values in visibility \n",
        "b = spark.sql(\"Select Avg(`Visibility(mi)`) from df3\")\n",
        "b.show()"
      ],
      "execution_count": null,
      "outputs": [
        {
          "output_type": "stream",
          "text": [
            "+-------------------+\n",
            "|avg(Visibility(mi))|\n",
            "+-------------------+\n",
            "|  9.112001938196904|\n",
            "+-------------------+\n",
            "\n"
          ],
          "name": "stdout"
        }
      ]
    },
    {
      "cell_type": "code",
      "metadata": {
        "colab": {
          "base_uri": "https://localhost:8080/"
        },
        "id": "1EcVnpA-3a3T",
        "outputId": "accc223e-6d85-4596-c7d4-a19de922e226"
      },
      "source": [
        "# Replacing NULL values with average in Temperature and visibility column\n",
        "df4 = spark.sql(\"Select *, case when `Temperature(F)` is NULL then 61.478 else `Temperature(F)` end as Imp_Temp, case when `Visibility(mi)` is NULL then 9.0 else `Visibility(mi)` end as Imp_Visib from df3\")\n",
        "df4.createOrReplaceTempView(\"df4\")\n",
        "df4.cache()\n",
        "df4.show()"
      ],
      "execution_count": 14,
      "outputs": [
        {
          "output_type": "stream",
          "text": [
            "+--------+-------------------+-------------------+----+------------+-----+--------------+--------------+--------------+----+----------+-----------------+--------+---------+\n",
            "|Severity|         Start_Time|           End_Time|Side|        City|State|Temperature(F)|Visibility(mi)|Sunrise_Sunset|Year|Start_hour|Accident_Duration|Imp_Temp|Imp_Visib|\n",
            "+--------+-------------------+-------------------+----+------------+-----+--------------+--------------+--------------+----+----------+-----------------+--------+---------+\n",
            "|       3|2016-02-08 05:46:00|2016-02-08 11:00:00|   R|      Dayton|   OH|          36.9|          10.0|         Night|2016|         5|       314.000000|    36.9|     10.0|\n",
            "|       2|2016-02-08 06:07:59|2016-02-08 06:37:59|   L|Reynoldsburg|   OH|          37.9|          10.0|         Night|2016|         6|        30.000000|    37.9|     10.0|\n",
            "|       2|2016-02-08 06:49:27|2016-02-08 07:19:27|   R|Williamsburg|   OH|          36.0|          10.0|         Night|2016|         6|        30.000000|    36.0|     10.0|\n",
            "|       3|2016-02-08 07:23:34|2016-02-08 07:53:34|   R|      Dayton|   OH|          35.1|           9.0|         Night|2016|         7|        30.000000|    35.1|      9.0|\n",
            "|       2|2016-02-08 07:39:07|2016-02-08 08:09:07|   R|      Dayton|   OH|          36.0|           6.0|           Day|2016|         7|        30.000000|    36.0|      6.0|\n",
            "|       3|2016-02-08 07:44:26|2016-02-08 08:14:26|   R| Westerville|   OH|          37.9|           7.0|           Day|2016|         7|        30.000000|    37.9|      7.0|\n",
            "|       2|2016-02-08 07:59:35|2016-02-08 08:29:35|   R|      Dayton|   OH|          34.0|           7.0|           Day|2016|         7|        30.000000|    34.0|      7.0|\n",
            "|       3|2016-02-08 07:59:58|2016-02-08 08:29:58|   R|      Dayton|   OH|          34.0|           7.0|           Day|2016|         7|        30.000000|    34.0|      7.0|\n",
            "|       2|2016-02-08 08:00:40|2016-02-08 08:30:40|   L|      Dayton|   OH|          33.3|           5.0|           Day|2016|         8|        30.000000|    33.3|      5.0|\n",
            "|       3|2016-02-08 08:10:04|2016-02-08 08:40:04|   R| Westerville|   OH|          37.4|           3.0|           Day|2016|         8|        30.000000|    37.4|      3.0|\n",
            "|       3|2016-02-08 08:14:42|2016-02-08 08:44:42|   R|    Columbus|   OH|          35.6|           5.0|           Day|2016|         8|        30.000000|    35.6|      5.0|\n",
            "|       3|2016-02-08 08:21:27|2016-02-08 08:51:27|   R|Reynoldsburg|   OH|          37.4|           3.0|           Day|2016|         8|        30.000000|    37.4|      3.0|\n",
            "|       2|2016-02-08 08:36:34|2016-02-08 09:06:34|   R|      Dayton|   OH|          33.8|           3.0|           Day|2016|         8|        30.000000|    33.8|      3.0|\n",
            "|       2|2016-02-08 08:37:07|2016-02-08 09:07:07|   L|      Dayton|   OH|          36.0|          10.0|           Day|2016|         8|        30.000000|    36.0|     10.0|\n",
            "|       2|2016-02-08 08:39:43|2016-02-08 09:09:43|   L|    Columbus|   OH|          37.4|           3.0|           Day|2016|         8|        30.000000|    37.4|      3.0|\n",
            "|       2|2016-02-08 08:43:20|2016-02-08 09:13:20|   R|      Dayton|   OH|          33.8|           3.0|           Day|2016|         8|        30.000000|    33.8|      3.0|\n",
            "|       2|2016-02-08 08:53:17|2016-02-08 09:23:17|   R|      Dayton|   OH|          35.6|           7.0|           Day|2016|         8|        30.000000|    35.6|      7.0|\n",
            "|       2|2016-02-08 09:24:37|2016-02-08 09:54:37|   R|      Dayton|   OH|          36.0|          10.0|           Day|2016|         9|        30.000000|    36.0|     10.0|\n",
            "|       2|2016-02-08 09:25:17|2016-02-08 09:55:17|   L|      Dayton|   OH|          37.4|          10.0|           Day|2016|         9|        30.000000|    37.4|     10.0|\n",
            "|       2|2016-02-08 09:35:35|2016-02-08 10:05:35|   R|      Dayton|   OH|          36.0|          10.0|           Day|2016|         9|        30.000000|    36.0|     10.0|\n",
            "+--------+-------------------+-------------------+----+------------+-----+--------------+--------------+--------------+----+----------+-----------------+--------+---------+\n",
            "only showing top 20 rows\n",
            "\n"
          ],
          "name": "stdout"
        }
      ]
    },
    {
      "cell_type": "code",
      "metadata": {
        "colab": {
          "base_uri": "https://localhost:8080/",
          "height": 284
        },
        "id": "8RJxcizvdhS4",
        "outputId": "8ab69594-b251-4825-af8b-98e18149809f"
      },
      "source": [
        "a.describe()"
      ],
      "execution_count": null,
      "outputs": [
        {
          "output_type": "execute_result",
          "data": {
            "text/html": [
              "<div>\n",
              "<style scoped>\n",
              "    .dataframe tbody tr th:only-of-type {\n",
              "        vertical-align: middle;\n",
              "    }\n",
              "\n",
              "    .dataframe tbody tr th {\n",
              "        vertical-align: top;\n",
              "    }\n",
              "\n",
              "    .dataframe thead th {\n",
              "        text-align: right;\n",
              "    }\n",
              "</style>\n",
              "<table border=\"1\" class=\"dataframe\">\n",
              "  <thead>\n",
              "    <tr style=\"text-align: right;\">\n",
              "      <th></th>\n",
              "      <th>Temperature(F)</th>\n",
              "    </tr>\n",
              "  </thead>\n",
              "  <tbody>\n",
              "    <tr>\n",
              "      <th>count</th>\n",
              "      <td>4.142505e+06</td>\n",
              "    </tr>\n",
              "    <tr>\n",
              "      <th>mean</th>\n",
              "      <td>6.147803e+01</td>\n",
              "    </tr>\n",
              "    <tr>\n",
              "      <th>std</th>\n",
              "      <td>1.852589e+01</td>\n",
              "    </tr>\n",
              "    <tr>\n",
              "      <th>min</th>\n",
              "      <td>-8.900000e+01</td>\n",
              "    </tr>\n",
              "    <tr>\n",
              "      <th>25%</th>\n",
              "      <td>4.900000e+01</td>\n",
              "    </tr>\n",
              "    <tr>\n",
              "      <th>50%</th>\n",
              "      <td>6.300000e+01</td>\n",
              "    </tr>\n",
              "    <tr>\n",
              "      <th>75%</th>\n",
              "      <td>7.520000e+01</td>\n",
              "    </tr>\n",
              "    <tr>\n",
              "      <th>max</th>\n",
              "      <td>2.030000e+02</td>\n",
              "    </tr>\n",
              "  </tbody>\n",
              "</table>\n",
              "</div>"
            ],
            "text/plain": [
              "       Temperature(F)\n",
              "count    4.142505e+06\n",
              "mean     6.147803e+01\n",
              "std      1.852589e+01\n",
              "min     -8.900000e+01\n",
              "25%      4.900000e+01\n",
              "50%      6.300000e+01\n",
              "75%      7.520000e+01\n",
              "max      2.030000e+02"
            ]
          },
          "metadata": {
            "tags": []
          },
          "execution_count": 15
        }
      ]
    },
    {
      "cell_type": "code",
      "metadata": {
        "colab": {
          "base_uri": "https://localhost:8080/"
        },
        "id": "X0nOt6U5ecSz",
        "outputId": "1677382e-b9b1-4845-8dbe-1bd8d92fb0f7"
      },
      "source": [
        "IQR = 75.2-49\n",
        "Median = 63\n",
        "IQR*2.2\n"
      ],
      "execution_count": null,
      "outputs": [
        {
          "output_type": "execute_result",
          "data": {
            "text/plain": [
              "57.64000000000001"
            ]
          },
          "metadata": {
            "tags": []
          },
          "execution_count": 16
        }
      ]
    },
    {
      "cell_type": "code",
      "metadata": {
        "id": "sC1dCjaDZP5u",
        "colab": {
          "base_uri": "https://localhost:8080/"
        },
        "outputId": "be050ac5-2a07-4ffe-9a99-89a2d035806a"
      },
      "source": [
        "# To replace outliers with mean value of the Temperature\n",
        "df5 = spark.sql(\"Select Severity , Start_Time, End_Time, Side, City, State,  Imp_Temp, Imp_Visib, Sunrise_Sunset, Year, Start_hour, Accident_Duration, case when (Imp_Temp-63 > 57.64 or 63-Imp_Temp >57.64) then 63 else Imp_Temp end as Final_Temp from df4\")\n",
        "df5.createOrReplaceTempView(\"df5\")\n",
        "df5.cache()"
      ],
      "execution_count": 15,
      "outputs": [
        {
          "output_type": "execute_result",
          "data": {
            "text/plain": [
              "DataFrame[Severity: int, Start_Time: timestamp, End_Time: timestamp, Side: string, City: string, State: string, Imp_Temp: double, Imp_Visib: double, Sunrise_Sunset: string, Year: int, Start_hour: int, Accident_Duration: decimal(17,6), Final_Temp: double]"
            ]
          },
          "metadata": {
            "tags": []
          },
          "execution_count": 15
        }
      ]
    },
    {
      "cell_type": "code",
      "metadata": {
        "id": "-IJm7cdThXe4",
        "colab": {
          "base_uri": "https://localhost:8080/",
          "height": 489
        },
        "outputId": "fe50760e-93ca-42f8-94bd-2f86607d356a"
      },
      "source": [
        "c = spark.sql(\"Select Final_Temp from df5\").toPandas()\n",
        "plt.figure(figsize=(10,8))\n",
        "sns.set_theme(style=\"whitegrid\")\n",
        "sns.boxplot(y=c[\"Final_Temp\"],width=0.2)"
      ],
      "execution_count": null,
      "outputs": [
        {
          "output_type": "execute_result",
          "data": {
            "text/plain": [
              "<matplotlib.axes._subplots.AxesSubplot at 0x7f63e24c7190>"
            ]
          },
          "metadata": {
            "tags": []
          },
          "execution_count": 27
        },
        {
          "output_type": "display_data",
          "data": {
            "image/png": "[encoded data removed]",
            "text/plain": [
              "<Figure size 720x576 with 1 Axes>"
            ]
          },
          "metadata": {
            "tags": []
          }
        }
      ]
    },
    {
      "cell_type": "code",
      "metadata": {
        "colab": {
          "base_uri": "https://localhost:8080/"
        },
        "id": "7YUggqfS0wJl",
        "outputId": "7894bfe4-1270-46b9-bc41-417272e0f7d4"
      },
      "source": [
        "df5.show()"
      ],
      "execution_count": 16,
      "outputs": [
        {
          "output_type": "stream",
          "text": [
            "+--------+-------------------+-------------------+----+------------+-----+--------+---------+--------------+----+----------+-----------------+----------+\n",
            "|Severity|         Start_Time|           End_Time|Side|        City|State|Imp_Temp|Imp_Visib|Sunrise_Sunset|Year|Start_hour|Accident_Duration|Final_Temp|\n",
            "+--------+-------------------+-------------------+----+------------+-----+--------+---------+--------------+----+----------+-----------------+----------+\n",
            "|       3|2016-02-08 05:46:00|2016-02-08 11:00:00|   R|      Dayton|   OH|    36.9|     10.0|         Night|2016|         5|       314.000000|      36.9|\n",
            "|       2|2016-02-08 06:07:59|2016-02-08 06:37:59|   L|Reynoldsburg|   OH|    37.9|     10.0|         Night|2016|         6|        30.000000|      37.9|\n",
            "|       2|2016-02-08 06:49:27|2016-02-08 07:19:27|   R|Williamsburg|   OH|    36.0|     10.0|         Night|2016|         6|        30.000000|      36.0|\n",
            "|       3|2016-02-08 07:23:34|2016-02-08 07:53:34|   R|      Dayton|   OH|    35.1|      9.0|         Night|2016|         7|        30.000000|      35.1|\n",
            "|       2|2016-02-08 07:39:07|2016-02-08 08:09:07|   R|      Dayton|   OH|    36.0|      6.0|           Day|2016|         7|        30.000000|      36.0|\n",
            "|       3|2016-02-08 07:44:26|2016-02-08 08:14:26|   R| Westerville|   OH|    37.9|      7.0|           Day|2016|         7|        30.000000|      37.9|\n",
            "|       2|2016-02-08 07:59:35|2016-02-08 08:29:35|   R|      Dayton|   OH|    34.0|      7.0|           Day|2016|         7|        30.000000|      34.0|\n",
            "|       3|2016-02-08 07:59:58|2016-02-08 08:29:58|   R|      Dayton|   OH|    34.0|      7.0|           Day|2016|         7|        30.000000|      34.0|\n",
            "|       2|2016-02-08 08:00:40|2016-02-08 08:30:40|   L|      Dayton|   OH|    33.3|      5.0|           Day|2016|         8|        30.000000|      33.3|\n",
            "|       3|2016-02-08 08:10:04|2016-02-08 08:40:04|   R| Westerville|   OH|    37.4|      3.0|           Day|2016|         8|        30.000000|      37.4|\n",
            "|       3|2016-02-08 08:14:42|2016-02-08 08:44:42|   R|    Columbus|   OH|    35.6|      5.0|           Day|2016|         8|        30.000000|      35.6|\n",
            "|       3|2016-02-08 08:21:27|2016-02-08 08:51:27|   R|Reynoldsburg|   OH|    37.4|      3.0|           Day|2016|         8|        30.000000|      37.4|\n",
            "|       2|2016-02-08 08:36:34|2016-02-08 09:06:34|   R|      Dayton|   OH|    33.8|      3.0|           Day|2016|         8|        30.000000|      33.8|\n",
            "|       2|2016-02-08 08:37:07|2016-02-08 09:07:07|   L|      Dayton|   OH|    36.0|     10.0|           Day|2016|         8|        30.000000|      36.0|\n",
            "|       2|2016-02-08 08:39:43|2016-02-08 09:09:43|   L|    Columbus|   OH|    37.4|      3.0|           Day|2016|         8|        30.000000|      37.4|\n",
            "|       2|2016-02-08 08:43:20|2016-02-08 09:13:20|   R|      Dayton|   OH|    33.8|      3.0|           Day|2016|         8|        30.000000|      33.8|\n",
            "|       2|2016-02-08 08:53:17|2016-02-08 09:23:17|   R|      Dayton|   OH|    35.6|      7.0|           Day|2016|         8|        30.000000|      35.6|\n",
            "|       2|2016-02-08 09:24:37|2016-02-08 09:54:37|   R|      Dayton|   OH|    36.0|     10.0|           Day|2016|         9|        30.000000|      36.0|\n",
            "|       2|2016-02-08 09:25:17|2016-02-08 09:55:17|   L|      Dayton|   OH|    37.4|     10.0|           Day|2016|         9|        30.000000|      37.4|\n",
            "|       2|2016-02-08 09:35:35|2016-02-08 10:05:35|   R|      Dayton|   OH|    36.0|     10.0|           Day|2016|         9|        30.000000|      36.0|\n",
            "+--------+-------------------+-------------------+----+------------+-----+--------+---------+--------------+----+----------+-----------------+----------+\n",
            "only showing top 20 rows\n",
            "\n"
          ],
          "name": "stdout"
        }
      ]
    },
    {
      "cell_type": "code",
      "metadata": {
        "colab": {
          "base_uri": "https://localhost:8080/"
        },
        "id": "7lSheAk5ptci",
        "outputId": "ef67f1e2-8deb-4622-dd1d-76b03bcf5f6b"
      },
      "source": [
        "df5.dtypes"
      ],
      "execution_count": 31,
      "outputs": [
        {
          "output_type": "execute_result",
          "data": {
            "text/plain": [
              "[('Severity', 'int'),\n",
              " ('Start_Time', 'timestamp'),\n",
              " ('End_Time', 'timestamp'),\n",
              " ('Side', 'string'),\n",
              " ('City', 'string'),\n",
              " ('State', 'string'),\n",
              " ('Imp_Temp', 'double'),\n",
              " ('Imp_Visib', 'double'),\n",
              " ('Sunrise_Sunset', 'string'),\n",
              " ('Year', 'int'),\n",
              " ('Start_hour', 'int'),\n",
              " ('Accident_Duration', 'decimal(17,6)'),\n",
              " ('Final_Temp', 'double')]"
            ]
          },
          "metadata": {
            "tags": []
          },
          "execution_count": 31
        }
      ]
    },
    {
      "cell_type": "markdown",
      "metadata": {
        "id": "gbbEy8hzCKJl"
      },
      "source": [
        "# Insights"
      ]
    },
    {
      "cell_type": "markdown",
      "metadata": {
        "id": "zAiVHCIZ3efh"
      },
      "source": [
        "Test:"
      ]
    },
    {
      "cell_type": "code",
      "metadata": {
        "colab": {
          "base_uri": "https://localhost:8080/",
          "height": 98,
          "referenced_widgets": [
            "0731d400bcb9490795d3f3b457eaa94f",
            "e065ea0e7620469fa922f61769be428f",
            "e21932b465be4b3a92509372cc5586ab",
            "5649a7bc2a69486f971843a7bdeb6feb",
            "a0ee14e7184944abb46017744d7a0327",
            "76d6ef8ef9c74a46a240a094f8c1f2a5",
            "d20c0a594c7b4480a7df191936ad357d",
            "bdac82fa4da243859a97d834c6d05216",
            "b3a326ca1bcc45208f8822ebdeb17329",
            "37632cd6d365426cacc7f7b757bb2092"
          ]
        },
        "id": "Z6lMfihoDUMx",
        "outputId": "42ea81f7-2785-4413-fbd5-76010f8eb641"
      },
      "source": [
        "@interact\n",
        "def show_articles_more_than(column='Severity', x=2):\n",
        "    return df3.filter(df3[column] == x).count()"
      ],
      "execution_count": null,
      "outputs": [
        {
          "output_type": "display_data",
          "data": {
            "application/vnd.jupyter.widget-view+json": {
              "model_id": "0731d400bcb9490795d3f3b457eaa94f",
              "version_minor": 0,
              "version_major": 2
            },
            "text/plain": [
              "interactive(children=(Text(value='Severity', description='column'), IntSlider(value=2, description='x', max=6,…"
            ]
          },
          "metadata": {
            "tags": []
          }
        }
      ]
    },
    {
      "cell_type": "code",
      "metadata": {
        "id": "rBKBLaKaW9J5"
      },
      "source": [
        "# Common Function to add the list to dropdown\n",
        "ALL = 'ALL'\n",
        "def unique_sorted_values_plus_ALL(array):\n",
        "    unique = list(df5.select(array).distinct().toPandas()[array])\n",
        "    unique.sort()\n",
        "    unique.insert(0, ALL)\n",
        "    return unique"
      ],
      "execution_count": 17,
      "outputs": []
    },
    {
      "cell_type": "markdown",
      "metadata": {
        "id": "zrKqBwXums_b"
      },
      "source": [
        "Insight1: "
      ]
    },
    {
      "cell_type": "code",
      "metadata": {
        "id": "Y1IAP7yPpKT6"
      },
      "source": [
        "dropdown_year = widgets.Dropdown(options = unique_sorted_values_plus_ALL('Year'), description = 'Year')"
      ],
      "execution_count": 50,
      "outputs": []
    },
    {
      "cell_type": "code",
      "metadata": {
        "colab": {
          "base_uri": "https://localhost:8080/",
          "height": 530,
          "referenced_widgets": [
            "4f19e4137ad74589915d950da013637f",
            "f38cf4da22c74b08aafca8c6469cb6c6",
            "173cbbe56e9f42d8beeb7f1d00a0322d",
            "f904a248c1a04ec68a208a83c2e27c1e",
            "0385f5c0dd1041a08cfb0eb5d15c5cdc"
          ]
        },
        "id": "UvUrUmeYIqr0",
        "outputId": "c30c1180-ece9-493a-ca64-22ed33882146"
      },
      "source": [
        "output = widgets.Output()\n",
        "plot_output = widgets.Output()\n",
        "\n",
        "def common_filtering(Year):\n",
        "    output.clear_output()\n",
        "    plt.clf()\n",
        "    plot_output.clear_output()\n",
        "    if (Year == ALL):\n",
        "      common_filter = df5\n",
        "      common_filter.createOrReplaceTempView(\"common_filter\")\n",
        "    else:\n",
        "      common_filter = df5.filter(df5.Year == Year)\n",
        "      common_filter.createOrReplaceTempView(\"common_filter\")\n",
        "    with output:\n",
        "      common_filter.show()\n",
        "    \n",
        "    with plot_output:\n",
        "      plot_output.clear_output()\n",
        "      plt.close()\n",
        "      # common_filter['Start_hour'].count().rdd.values().histogram()\n",
        "      # sns.kdeplot(common_filter[-1], shade=True)\n",
        "      # sns.distplot(common_filter['Start_hour'], bins = 24, kde = False , norm_hist = True)\n",
        "      # plt.show()\n",
        "      # bins, counts = common_filter.select('Start_hour').rdd.flatMap(lambda x: x).histogram(24)\n",
        "      # plt.hist(bins[:-1], bins=bins, weights=counts)\n",
        "      # common_filter_R = common_filter.filter(F.col('Side') == 'R').select(F.col('Start_hour').alias('Side_R'))\n",
        "      # common_filter_L = common_filter.filter(F.col('Side') == 'L').select(F.col('Start_hour').alias('Side_L'))\n",
        "      # fig, ax = plt.subplots()\n",
        "      # hist(ax, df2.select('Start_hour'))\n",
        "      # hist(ax, common_filter.select('Start_hour'), bins = 24, color=['red'])\n",
        "      # hist(ax, [common_filter_R,common_filter_L], bins = 24, color=['red','tan'])\n",
        "      # ax.legend()\n",
        "      Data = spark.sql(\"Select Start_hour, count(Start_hour) as Count, Side from common_filter group by Start_hour, Side\").toPandas()\n",
        "      plt.figure(figsize=(10,8))\n",
        "      sns.barplot(data= Data, x= 'Start_hour', y = 'Count', hue = 'Side')\n",
        "      # x = Data['Count']\n",
        "      # y = Data['Count']\n",
        "      # my_colors = 'red'\n",
        "      # plt.hist(x, bins = 24, color= my_colors)\n",
        "      plt.show()\n",
        "      # https://github.com/Bergvca/pyspark_dist_explore/ for the good histogram in spark\n",
        "\n",
        "      # common_filter.groupby('Start_hour').count().plot.bar()\n",
        "      # distplot( x= df3['Start_hour'], bins=24)\n",
        "\n",
        "def dropdown_year_eventhandler(change):\n",
        "  common_filtering(change.new)\n",
        "\n",
        "dropdown_year.observe(dropdown_year_eventhandler, names='value')\n",
        "display(dropdown_year)\n",
        "# display(output)\n",
        "display(plot_output)"
      ],
      "execution_count": 51,
      "outputs": [
        {
          "output_type": "display_data",
          "data": {
            "application/vnd.jupyter.widget-view+json": {
              "model_id": "4f19e4137ad74589915d950da013637f",
              "version_minor": 0,
              "version_major": 2
            },
            "text/plain": [
              "Dropdown(description='Year', options=('ALL', 2016, 2017, 2018, 2019, 2020), value='ALL')"
            ]
          },
          "metadata": {
            "tags": []
          }
        },
        {
          "output_type": "display_data",
          "data": {
            "application/vnd.jupyter.widget-view+json": {
              "model_id": "f904a248c1a04ec68a208a83c2e27c1e",
              "version_minor": 0,
              "version_major": 2
            },
            "text/plain": [
              "Output()"
            ]
          },
          "metadata": {
            "tags": []
          }
        }
      ]
    },
    {
      "cell_type": "markdown",
      "metadata": {
        "id": "fmIw07--mvtf"
      },
      "source": [
        "Insight 2: "
      ]
    },
    {
      "cell_type": "code",
      "metadata": {
        "id": "ghfqtlw0Ea5o"
      },
      "source": [
        "dropdown_severity = widgets.IntSlider(min=1, max=4, step=1, value=2, description = 'Severity') #(options = unique_sorted_values_plus_ALL('Severity'), description = 'Severity')"
      ],
      "execution_count": 52,
      "outputs": []
    },
    {
      "cell_type": "code",
      "metadata": {
        "colab": {
          "base_uri": "https://localhost:8080/",
          "height": 552,
          "referenced_widgets": [
            "fab843ea17b44f199bcaac6ac1de639e",
            "6bd5750871a64affb043984d65794391",
            "c81b98ab91244cacbd1e113e4501106a",
            "3f05f468da0f4db6bc1ff2bc88c72716",
            "2acea95e03c649ba8d93aa655e055f41"
          ]
        },
        "id": "vWON5TP-EzKl",
        "outputId": "0364e57b-29c3-408e-ee65-663dcaf17164"
      },
      "source": [
        "output = widgets.Output()\n",
        "plot_output = widgets.Output()\n",
        "\n",
        "def common_filtering(Severity):\n",
        "    # output.clear_output()\n",
        "    # plt.clf()\n",
        "    plot_output.clear_output()\n",
        "    if (Severity == ALL):\n",
        "      common_filter = df5\n",
        "      common_filter.createOrReplaceTempView(\"common_filter\")\n",
        "    else:\n",
        "      common_filter = df5.filter(df5.Severity == Severity)\n",
        "      common_filter.createOrReplaceTempView(\"common_filter\")\n",
        "    with output:\n",
        "      common_filter.show()\n",
        "    \n",
        "    with plot_output:\n",
        "      Data = spark.sql(\"Select Year, count(Severity) as Count from common_filter group by Year order by Year desc \").toPandas()\n",
        "      plt.figure(figsize=(10,8))\n",
        "      x = Data['Year']\n",
        "      y = Data['Count']\n",
        "      my_colors = 'rgbkymc'\n",
        "      plt.bar(x, y, width=0.8, label='missing', color= my_colors)\n",
        "      plt.show()\n",
        "\n",
        "def dropdown_severity_eventhandler(change):\n",
        "  common_filtering(change.new)\n",
        "\n",
        "dropdown_severity.observe(dropdown_severity_eventhandler, names='value')\n",
        "display(dropdown_severity)\n",
        "\n",
        "display(plot_output)"
      ],
      "execution_count": 53,
      "outputs": [
        {
          "output_type": "display_data",
          "data": {
            "application/vnd.jupyter.widget-view+json": {
              "model_id": "fab843ea17b44f199bcaac6ac1de639e",
              "version_minor": 0,
              "version_major": 2
            },
            "text/plain": [
              "IntSlider(value=2, description='Severity', max=4, min=1)"
            ]
          },
          "metadata": {
            "tags": []
          }
        },
        {
          "output_type": "display_data",
          "data": {
            "application/vnd.jupyter.widget-view+json": {
              "model_id": "3f05f468da0f4db6bc1ff2bc88c72716",
              "version_minor": 0,
              "version_major": 2
            },
            "text/plain": [
              "Output()"
            ]
          },
          "metadata": {
            "tags": []
          }
        }
      ]
    },
    {
      "cell_type": "markdown",
      "metadata": {
        "id": "rjm0LddAnG1P"
      },
      "source": [
        "Insight 3:"
      ]
    },
    {
      "cell_type": "code",
      "metadata": {
        "id": "wD_PpZ6hnF7N"
      },
      "source": [
        "dropdown_severity = widgets.IntSlider(min=1, max=4, step=1, value=2, description = 'Severity')"
      ],
      "execution_count": 54,
      "outputs": []
    },
    {
      "cell_type": "code",
      "metadata": {
        "colab": {
          "base_uri": "https://localhost:8080/",
          "height": 530,
          "referenced_widgets": [
            "a9b9f8748efe4387950845bae35b9f9c",
            "dc23f6e9888544e882c34e6d74eacac7",
            "cfa5c279920945c69a672b35c5fd691e",
            "d5cff13b8f51427a843e6c98f40c1262",
            "1d77e7e5c9f145f9b55ba7c3fb6a3d59"
          ]
        },
        "id": "YqYVA5fEnGZ7",
        "outputId": "2d5b1db9-a4fe-418a-d78a-2acd151b75e1"
      },
      "source": [
        "output = widgets.Output()\n",
        "plot_output = widgets.Output()\n",
        "\n",
        "def common_filtering(Severity):\n",
        "    output.clear_output()\n",
        "    plt.clf()\n",
        "    plot_output.clear_output()\n",
        "    common_filter = df5.filter(df5.Severity == Severity)\n",
        "    common_filter.createOrReplaceTempView(\"common_filter\")\n",
        "    with output:\n",
        "      common_filter.show()\n",
        "    \n",
        "    with plot_output:\n",
        "      plot_output.clear_output()\n",
        "      plt.close()\n",
        "     \n",
        "      Data = spark.sql(\"Select Start_hour, count(Start_hour) as Count, Year from common_filter group by Start_hour, Year\").toPandas()\n",
        "      plt.figure(figsize=(10,8))\n",
        "      sns.barplot(data= Data, x= 'Start_hour', y = 'Count', hue = 'Year')\n",
        "      \n",
        "      plt.show()\n",
        "     \n",
        "\n",
        "def dropdown_severity_eventhandler(change):\n",
        "  common_filtering(change.new)\n",
        "\n",
        "dropdown_severity.observe(dropdown_severity_eventhandler, names='value')\n",
        "display(dropdown_severity)\n",
        "\n",
        "display(plot_output)"
      ],
      "execution_count": 55,
      "outputs": [
        {
          "output_type": "display_data",
          "data": {
            "application/vnd.jupyter.widget-view+json": {
              "model_id": "a9b9f8748efe4387950845bae35b9f9c",
              "version_minor": 0,
              "version_major": 2
            },
            "text/plain": [
              "IntSlider(value=2, description='Severity', max=4, min=1)"
            ]
          },
          "metadata": {
            "tags": []
          }
        },
        {
          "output_type": "display_data",
          "data": {
            "application/vnd.jupyter.widget-view+json": {
              "model_id": "d5cff13b8f51427a843e6c98f40c1262",
              "version_minor": 0,
              "version_major": 2
            },
            "text/plain": [
              "Output()"
            ]
          },
          "metadata": {
            "tags": []
          }
        }
      ]
    },
    {
      "cell_type": "markdown",
      "metadata": {
        "id": "YUKE4yY6sXle"
      },
      "source": [
        "Insight 4"
      ]
    },
    {
      "cell_type": "code",
      "metadata": {
        "id": "cdprXiNI3wgF"
      },
      "source": [
        "dropdown_severity = widgets.IntSlider(min=1, max=4, step=1, value=2, description = 'Severity') #Dropdown(options = unique_sorted_values_plus_ALL('Severity'), description = 'Severity' )\n",
        "dropdown_year = widgets.Dropdown(options = unique_sorted_values_plus_ALL('Year'), description = 'Year')"
      ],
      "execution_count": 56,
      "outputs": []
    },
    {
      "cell_type": "code",
      "metadata": {
        "colab": {
          "base_uri": "https://localhost:8080/",
          "height": 584,
          "referenced_widgets": [
            "7e3d8d5675ac48ac9e38d868def5fe08",
            "384f9c0c147a4ce188fc3f2e4f2ff387",
            "0c81de98b4dd4f049e6e262048cac743",
            "a73f618ed5264e4da36ebeaf002cdf6c",
            "0f0c977a84fe432f9365d72a3121b217",
            "e6a8d0cd5c9748d4bf79c08c241a5ea3",
            "8d7db3c5612b42e68c3df278a7c0026f",
            "8b12cf9f36b64aedaccb28e19d08f8b9"
          ]
        },
        "id": "YtHXLEVA_3hN",
        "outputId": "a05ee63f-73c0-49e3-929f-95647300ef52"
      },
      "source": [
        "output = widgets.Output()\n",
        "plot_output = widgets.Output()\n",
        "\n",
        "def common_filtering(Year, Severity):\n",
        "    # plt.clf()\n",
        "    plot_output.clear_output()\n",
        "    if (Severity == ALL) & (Year == ALL):\n",
        "      common_filter = df5\n",
        "      common_filter.createOrReplaceTempView(\"common_filter\")\n",
        "    elif (Year == ALL):\n",
        "      common_filter = df5.filter(df5.Severity == Severity)\n",
        "      common_filter.createOrReplaceTempView(\"common_filter\")\n",
        "    elif (Severity == ALL):\n",
        "      common_filter = df5.filter(df5.Year == Year)\n",
        "      common_filter.createOrReplaceTempView(\"common_filter\")   \n",
        "    else:\n",
        "      common_filter = df5.filter((df5.Year == Year) & (df5.Severity == Severity))\n",
        "      common_filter.createOrReplaceTempView(\"common_filter\")   \n",
        "    with output:\n",
        "      common_filter.show()\n",
        "    \n",
        "    with plot_output:\n",
        "      Data = spark.sql(\"Select* from (Select * from (Select State, count(Severity) as Count from common_filter group by State) as a order by a.Count desc) as b LIMIT 10 \").toPandas()\n",
        "      plt.figure(figsize=(10,8))\n",
        "      x = Data['State']\n",
        "      y = Data['Count']\n",
        "      my_colors = 'rgbkymc'\n",
        "      plt.bar(x, y, width=0.8, label='missing', color= my_colors)\n",
        "      plt.show()\n",
        "\n",
        "def dropdown_year_eventhandler(change):\n",
        "  common_filtering(change.new,dropdown_severity.value)\n",
        "\n",
        "def dropdown_severity_eventhandler(change):\n",
        "  common_filtering(dropdown_year.value,change.new)\n",
        "\n",
        "dropdown_severity.observe(dropdown_severity_eventhandler, names='value')\n",
        "dropdown_year.observe(dropdown_year_eventhandler, names='value')\n",
        "\n",
        "display(dropdown_severity)\n",
        "display(dropdown_year)\n",
        "\n",
        "display(plot_output)"
      ],
      "execution_count": 57,
      "outputs": [
        {
          "output_type": "display_data",
          "data": {
            "application/vnd.jupyter.widget-view+json": {
              "model_id": "7e3d8d5675ac48ac9e38d868def5fe08",
              "version_minor": 0,
              "version_major": 2
            },
            "text/plain": [
              "IntSlider(value=2, description='Severity', max=4, min=1)"
            ]
          },
          "metadata": {
            "tags": []
          }
        },
        {
          "output_type": "display_data",
          "data": {
            "application/vnd.jupyter.widget-view+json": {
              "model_id": "a73f618ed5264e4da36ebeaf002cdf6c",
              "version_minor": 0,
              "version_major": 2
            },
            "text/plain": [
              "Dropdown(description='Year', options=('ALL', 2016, 2017, 2018, 2019, 2020), value='ALL')"
            ]
          },
          "metadata": {
            "tags": []
          }
        },
        {
          "output_type": "display_data",
          "data": {
            "application/vnd.jupyter.widget-view+json": {
              "model_id": "8d7db3c5612b42e68c3df278a7c0026f",
              "version_minor": 0,
              "version_major": 2
            },
            "text/plain": [
              "Output()"
            ]
          },
          "metadata": {
            "tags": []
          }
        }
      ]
    },
    {
      "cell_type": "markdown",
      "metadata": {
        "id": "0LP2fJjfBkH5"
      },
      "source": [
        "# Appendix"
      ]
    },
    {
      "cell_type": "code",
      "metadata": {
        "id": "xi4YJc1q1uSS"
      },
      "source": [
        ""
      ],
      "execution_count": null,
      "outputs": []
    },
    {
      "cell_type": "code",
      "metadata": {
        "id": "jQUoDMCUZJ3u"
      },
      "source": [
        "dropdown_state = widgets.Dropdown(options = unique_sorted_values_plus_ALL('State'), description = 'State')"
      ],
      "execution_count": null,
      "outputs": []
    },
    {
      "cell_type": "code",
      "metadata": {
        "colab": {
          "base_uri": "https://localhost:8080/",
          "height": 297,
          "referenced_widgets": [
            "d611f42d894c477ea438019a5e2d6ae8",
            "3c9336cd1c9649ad923a2be097a4b94c",
            "caef94a9433c4afe9a114f0a21242463",
            "be676b383380428796ed73f32d144b42",
            "9585d313f3d84486b2ce6cddd6298df0"
          ]
        },
        "id": "NuJ8qjn4nFTR",
        "outputId": "c304b86c-96f6-4a43-f045-a0f61eb19e1c"
      },
      "source": [
        "# dropdown_year = widgets.Dropdown(options = unique_sorted_values_plus_ALL('Year'))\n",
        "output = widgets.Output()\n",
        "plot_output = widgets.Output()\n",
        "\n",
        "def common_filtering(State):\n",
        "    output.clear_output()\n",
        "    plt.clf()\n",
        "    plot_output.clear_output()\n",
        "    if (State == ALL):\n",
        "      common_filter = df5\n",
        "    else:\n",
        "      common_filter = df5.filter(df5.State == State)\n",
        "      \n",
        "    with output:\n",
        "      common_filter.show()\n",
        "    \n",
        "    with plot_output:\n",
        "      plot_output.clear_output()\n",
        "      plt.close()\n",
        "      # common_filter['Start_hour'].count().rdd.values().histogram()\n",
        "      # sns.kdeplot(common_filter[-1], shade=True)\n",
        "      # sns.distplot(common_filter['Start_hour'], bins = 24, kde = False , norm_hist = True)\n",
        "      # plt.show()\n",
        "      # Show histogram of the 'C1' column\n",
        "      bins, counts = common_filter.select('Start_hour').rdd.flatMap(lambda x: x).histogram(24)\n",
        "\n",
        "      # This is a bit awkward but I believe this is the correct way to do it \n",
        "      plt.hist(bins[:-1], bins=bins, weights=counts)\n",
        "      # distplot( x= df3['Start_hour'], bins=24)\n",
        "\n",
        "def dropdown_state_eventhandler(change):\n",
        "  common_filtering(change.new)\n",
        "\n",
        "dropdown_state.observe(dropdown_state_eventhandler, names='value')\n",
        "display(dropdown_state)\n",
        "# display(output)\n",
        "display(plot_output)"
      ],
      "execution_count": null,
      "outputs": [
        {
          "output_type": "display_data",
          "data": {
            "application/vnd.jupyter.widget-view+json": {
              "model_id": "d611f42d894c477ea438019a5e2d6ae8",
              "version_minor": 0,
              "version_major": 2
            },
            "text/plain": [
              "Dropdown(description='State', options=('ALL', 'AL', 'AR', 'AZ', 'CA', 'CO', 'CT', 'DC', 'DE', 'FL', 'GA', 'IA'…"
            ]
          },
          "metadata": {
            "tags": []
          }
        },
        {
          "output_type": "display_data",
          "data": {
            "application/vnd.jupyter.widget-view+json": {
              "model_id": "be676b383380428796ed73f32d144b42",
              "version_minor": 0,
              "version_major": 2
            },
            "text/plain": [
              "Output()"
            ]
          },
          "metadata": {
            "tags": []
          }
        },
        {
          "output_type": "display_data",
          "data": {
            "image/png": "[encoded data removed]",
            "text/plain": [
              "<Figure size 432x288 with 1 Axes>"
            ]
          },
          "metadata": {
            "tags": [],
            "needs_background": "light"
          }
        }
      ]
    },
    {
      "cell_type": "code",
      "metadata": {
        "id": "P2t01yhW12nm"
      },
      "source": [
        ""
      ],
      "execution_count": null,
      "outputs": []
    },
    {
      "cell_type": "code",
      "metadata": {
        "id": "4eaPnoDpmdpt"
      },
      "source": [
        "dropdown_year = widgets.Dropdown(options = unique_sorted_values_plus_ALL('Year'), description = 'Year')"
      ],
      "execution_count": null,
      "outputs": []
    },
    {
      "cell_type": "code",
      "metadata": {
        "colab": {
          "base_uri": "https://localhost:8080/",
          "height": 530,
          "referenced_widgets": [
            "14f2ce240d894996ab04e5a8ed9b4852",
            "172f0a064b884996ba421aaec3b9d90b",
            "56e1da97c37e412a8999921cab1582ec",
            "80c75d29604b4b5d8b5a85b6b3af6958",
            "f3104860eca943489962eb1e35d7c453"
          ]
        },
        "id": "kXQPB5eDmeDf",
        "outputId": "a7b451b7-400a-4e5b-a6ab-91b6eabd07aa"
      },
      "source": [
        "output = widgets.Output()\n",
        "plot_output = widgets.Output()\n",
        "\n",
        "def common_filtering(Year):\n",
        "    output.clear_output()\n",
        "    plt.clf()\n",
        "    plot_output.clear_output()\n",
        "    if (Year == ALL):\n",
        "      common_filter = df5\n",
        "      common_filter.createOrReplaceTempView(\"common_filter\")\n",
        "    else:\n",
        "      common_filter = df5.filter(df5.Year == Year)\n",
        "      common_filter.createOrReplaceTempView(\"common_filter\")\n",
        "    with output:\n",
        "      common_filter.show()\n",
        "    \n",
        "    with plot_output:\n",
        "      plot_output.clear_output()\n",
        "      plt.close()\n",
        "      \n",
        "      Data = spark.sql(\"Select Start_hour, count(Start_hour) as Count, Severity from common_filter group by Start_hour, Severity\").toPandas()\n",
        "      plt.figure(figsize=(10,8))\n",
        "      sns.barplot(data= Data, x= 'Start_hour', y = 'Count', hue = 'Severity')\n",
        "      \n",
        "      plt.show()\n",
        "\n",
        "def dropdown_year_eventhandler(change):\n",
        "  common_filtering(change.new)\n",
        "\n",
        "dropdown_year.observe(dropdown_year_eventhandler, names='value')\n",
        "display(dropdown_year)\n",
        "# display(output)\n",
        "display(plot_output)"
      ],
      "execution_count": null,
      "outputs": [
        {
          "output_type": "display_data",
          "data": {
            "application/vnd.jupyter.widget-view+json": {
              "model_id": "14f2ce240d894996ab04e5a8ed9b4852",
              "version_minor": 0,
              "version_major": 2
            },
            "text/plain": [
              "Dropdown(description='Year', options=('ALL', 2016, 2017, 2018, 2019, 2020), value='ALL')"
            ]
          },
          "metadata": {
            "tags": []
          }
        },
        {
          "output_type": "display_data",
          "data": {
            "application/vnd.jupyter.widget-view+json": {
              "model_id": "80c75d29604b4b5d8b5a85b6b3af6958",
              "version_minor": 0,
              "version_major": 2
            },
            "text/plain": [
              "Output()"
            ]
          },
          "metadata": {
            "tags": []
          }
        }
      ]
    }
  ]
}